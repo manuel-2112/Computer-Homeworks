{
 "cells": [
  {
   "cell_type": "markdown",
   "metadata": {
    "id": "HA39Jpc_OU6y"
   },
   "source": [
    "# **Tarea Grande 2**\n",
    "\n",
    "## Integrantes: Manuel Espinoza, Ignacio Vial\n"
   ]
  },
  {
   "cell_type": "markdown",
   "metadata": {
    "id": "zadLf8AdzAph"
   },
   "source": [
    "### **Librerias**"
   ]
  },
  {
   "cell_type": "code",
   "execution_count": 16,
   "metadata": {
    "id": "3BcXoMACOlDd"
   },
   "outputs": [],
   "source": [
    "import pandas as pd\n",
    "import seaborn as sns\n",
    "import numpy as np"
   ]
  },
  {
   "cell_type": "markdown",
   "metadata": {
    "id": "B40rzYsuEGOR"
   },
   "source": [
    "Primero que todo importamos las librerias que se utilizaran."
   ]
  },
  {
   "cell_type": "markdown",
   "metadata": {
    "id": "-dqG-qzly5ps"
   },
   "source": [
    "### **Dataset**"
   ]
  },
  {
   "cell_type": "code",
   "execution_count": 17,
   "metadata": {
    "colab": {
     "base_uri": "https://localhost:8080/"
    },
    "id": "zwoxizKbFyb0",
    "outputId": "7dea552f-8ef4-49a8-f0e9-c2761e8afb0f"
   },
   "outputs": [
    {
     "name": "stdout",
     "output_type": "stream",
     "text": [
      "--2021-11-12 21:01:30--  http://q-/\n",
      "Resolving q- (q-)... failed: Name or service not known.\n",
      "wget: unable to resolve host address ‘q-’\n",
      "--2021-11-12 21:01:30--  https://www.dropbox.com/s/4m8kwozpo4ut44y/flowers.csv\n",
      "Resolving www.dropbox.com (www.dropbox.com)... 162.125.1.18, 2620:100:6016:18::a27d:112\n",
      "Connecting to www.dropbox.com (www.dropbox.com)|162.125.1.18|:443... failed: No route to host.\n",
      "Connecting to www.dropbox.com (www.dropbox.com)|2620:100:6016:18::a27d:112|:443... failed: Cannot assign requested address.\n",
      "Retrying.\n",
      "\n",
      "--2021-11-12 21:01:31--  (try: 2)  https://www.dropbox.com/s/4m8kwozpo4ut44y/flowers.csv\n",
      "Connecting to www.dropbox.com (www.dropbox.com)|162.125.1.18|:443... connected.\n",
      "HTTP request sent, awaiting response... 301 Moved Permanently\n",
      "Location: /s/raw/4m8kwozpo4ut44y/flowers.csv [following]\n",
      "--2021-11-12 21:01:31--  https://www.dropbox.com/s/raw/4m8kwozpo4ut44y/flowers.csv\n",
      "Reusing existing connection to www.dropbox.com:443.\n",
      "HTTP request sent, awaiting response... 404 Not Found\n",
      "2021-11-12 21:01:31 ERROR 404: Not Found.\n",
      "\n"
     ]
    }
   ],
   "source": [
    "!wget q- https://www.dropbox.com/s/4m8kwozpo4ut44y/flowers.csv"
   ]
  },
  {
   "cell_type": "markdown",
   "metadata": {
    "id": "T2M422MKETBW"
   },
   "source": [
    "Luego, cargamos el dataset directo desde dropbox con el comando !wget q-"
   ]
  },
  {
   "cell_type": "code",
   "execution_count": 18,
   "metadata": {
    "colab": {
     "base_uri": "https://localhost:8080/"
    },
    "id": "A0D4JhPy4fIz",
    "outputId": "04ed5a77-5948-4d6d-d27c-3000b2248d6b"
   },
   "outputs": [
    {
     "name": "stdout",
     "output_type": "stream",
     "text": [
      "Drive already mounted at /content/drive; to attempt to forcibly remount, call drive.mount(\"/content/drive\", force_remount=True).\n"
     ]
    }
   ],
   "source": [
    "from google.colab import drive\n",
    "drive.mount(\"/content/drive\")"
   ]
  },
  {
   "cell_type": "code",
   "execution_count": 19,
   "metadata": {
    "id": "Azu5BfBt5HIE"
   },
   "outputs": [],
   "source": [
    "df = pd.read_csv('/content/drive/My Drive/Universidad/Plan Comun/4to Semestre/IIC1005/Datasets/flowers.csv', sep= \",\")"
   ]
  },
  {
   "cell_type": "markdown",
   "metadata": {
    "id": "Vi36rVJ--bsl"
   },
   "source": [
    "Debido a que sacaron el dataset de dropbox, lo descargamos y lo leemos desde Google Drive.\n",
    "\n",
    "**Referencia:**\n",
    "\n",
    "* https://buomsoo-kim.github.io/colab/2020/05/09/Colab-mounting-google-drive.md/"
   ]
  },
  {
   "cell_type": "markdown",
   "metadata": {
    "id": "c-Q9f8SdytHk"
   },
   "source": [
    "### **Parte 1:** Procesamiento de los datos"
   ]
  },
  {
   "cell_type": "code",
   "execution_count": 20,
   "metadata": {
    "colab": {
     "base_uri": "https://localhost:8080/",
     "height": 254
    },
    "id": "-eHRmQb-Rhmv",
    "outputId": "ea9abb5d-4aa4-411f-ad45-7f24420a52f0"
   },
   "outputs": [
    {
     "data": {
      "text/html": [
       "<div>\n",
       "<style scoped>\n",
       "    .dataframe tbody tr th:only-of-type {\n",
       "        vertical-align: middle;\n",
       "    }\n",
       "\n",
       "    .dataframe tbody tr th {\n",
       "        vertical-align: top;\n",
       "    }\n",
       "\n",
       "    .dataframe thead th {\n",
       "        text-align: right;\n",
       "    }\n",
       "</style>\n",
       "<table border=\"1\" class=\"dataframe\">\n",
       "  <thead>\n",
       "    <tr style=\"text-align: right;\">\n",
       "      <th></th>\n",
       "      <th>0</th>\n",
       "      <th>1</th>\n",
       "      <th>2</th>\n",
       "      <th>3</th>\n",
       "      <th>4</th>\n",
       "      <th>5</th>\n",
       "      <th>6</th>\n",
       "      <th>7</th>\n",
       "      <th>8</th>\n",
       "      <th>9</th>\n",
       "      <th>10</th>\n",
       "      <th>11</th>\n",
       "      <th>12</th>\n",
       "      <th>13</th>\n",
       "      <th>14</th>\n",
       "      <th>15</th>\n",
       "      <th>16</th>\n",
       "      <th>17</th>\n",
       "      <th>18</th>\n",
       "      <th>19</th>\n",
       "      <th>20</th>\n",
       "      <th>21</th>\n",
       "      <th>22</th>\n",
       "      <th>23</th>\n",
       "      <th>24</th>\n",
       "      <th>25</th>\n",
       "      <th>26</th>\n",
       "      <th>27</th>\n",
       "      <th>28</th>\n",
       "      <th>29</th>\n",
       "      <th>30</th>\n",
       "      <th>31</th>\n",
       "      <th>32</th>\n",
       "      <th>33</th>\n",
       "      <th>34</th>\n",
       "      <th>35</th>\n",
       "      <th>36</th>\n",
       "      <th>37</th>\n",
       "      <th>38</th>\n",
       "      <th>39</th>\n",
       "      <th>...</th>\n",
       "      <th>6305</th>\n",
       "      <th>6306</th>\n",
       "      <th>6307</th>\n",
       "      <th>6308</th>\n",
       "      <th>6309</th>\n",
       "      <th>6310</th>\n",
       "      <th>6311</th>\n",
       "      <th>6312</th>\n",
       "      <th>6313</th>\n",
       "      <th>6314</th>\n",
       "      <th>6315</th>\n",
       "      <th>6316</th>\n",
       "      <th>6317</th>\n",
       "      <th>6318</th>\n",
       "      <th>6319</th>\n",
       "      <th>6320</th>\n",
       "      <th>6321</th>\n",
       "      <th>6322</th>\n",
       "      <th>6323</th>\n",
       "      <th>6324</th>\n",
       "      <th>6325</th>\n",
       "      <th>6326</th>\n",
       "      <th>6327</th>\n",
       "      <th>6328</th>\n",
       "      <th>6329</th>\n",
       "      <th>6330</th>\n",
       "      <th>6331</th>\n",
       "      <th>6332</th>\n",
       "      <th>6333</th>\n",
       "      <th>6334</th>\n",
       "      <th>6335</th>\n",
       "      <th>6336</th>\n",
       "      <th>6337</th>\n",
       "      <th>6338</th>\n",
       "      <th>6339</th>\n",
       "      <th>6340</th>\n",
       "      <th>6341</th>\n",
       "      <th>6342</th>\n",
       "      <th>6343</th>\n",
       "      <th>label</th>\n",
       "    </tr>\n",
       "  </thead>\n",
       "  <tbody>\n",
       "    <tr>\n",
       "      <th>0</th>\n",
       "      <td>0.000000</td>\n",
       "      <td>0.0</td>\n",
       "      <td>0.078777</td>\n",
       "      <td>0.0</td>\n",
       "      <td>0.000000</td>\n",
       "      <td>0.0</td>\n",
       "      <td>0.0</td>\n",
       "      <td>0.959512</td>\n",
       "      <td>0.396051</td>\n",
       "      <td>0.539444</td>\n",
       "      <td>0.0</td>\n",
       "      <td>0.0</td>\n",
       "      <td>0.881088</td>\n",
       "      <td>0.400309</td>\n",
       "      <td>0.000000</td>\n",
       "      <td>0.058751</td>\n",
       "      <td>0.23081</td>\n",
       "      <td>0.0</td>\n",
       "      <td>0.09793</td>\n",
       "      <td>0.073470</td>\n",
       "      <td>0.398529</td>\n",
       "      <td>0.000000</td>\n",
       "      <td>0.0</td>\n",
       "      <td>0.000000</td>\n",
       "      <td>0.165228</td>\n",
       "      <td>0.464426</td>\n",
       "      <td>1.073671</td>\n",
       "      <td>0.017675</td>\n",
       "      <td>0.089810</td>\n",
       "      <td>0.106286</td>\n",
       "      <td>0.000000</td>\n",
       "      <td>0.270185</td>\n",
       "      <td>0.000000</td>\n",
       "      <td>0.000000</td>\n",
       "      <td>0.000000</td>\n",
       "      <td>0.743026</td>\n",
       "      <td>0.0</td>\n",
       "      <td>0.00000</td>\n",
       "      <td>0.406393</td>\n",
       "      <td>0.169321</td>\n",
       "      <td>...</td>\n",
       "      <td>0.139970</td>\n",
       "      <td>0.625374</td>\n",
       "      <td>0.276260</td>\n",
       "      <td>1.470413</td>\n",
       "      <td>0.381458</td>\n",
       "      <td>0.155745</td>\n",
       "      <td>0.0</td>\n",
       "      <td>0.000000</td>\n",
       "      <td>0.0</td>\n",
       "      <td>0.367979</td>\n",
       "      <td>0.000000</td>\n",
       "      <td>0.781056</td>\n",
       "      <td>0.0</td>\n",
       "      <td>0.062550</td>\n",
       "      <td>0.0</td>\n",
       "      <td>0.000000</td>\n",
       "      <td>0.000000</td>\n",
       "      <td>0.0</td>\n",
       "      <td>0.0</td>\n",
       "      <td>0.704048</td>\n",
       "      <td>0.069275</td>\n",
       "      <td>1.307825</td>\n",
       "      <td>0.000000</td>\n",
       "      <td>0.526615</td>\n",
       "      <td>0.045950</td>\n",
       "      <td>1.439411</td>\n",
       "      <td>0.000000</td>\n",
       "      <td>0.370761</td>\n",
       "      <td>0.181276</td>\n",
       "      <td>0.0</td>\n",
       "      <td>0.0</td>\n",
       "      <td>0.289649</td>\n",
       "      <td>0.328494</td>\n",
       "      <td>0.814406</td>\n",
       "      <td>0.0</td>\n",
       "      <td>0.107592</td>\n",
       "      <td>0.022972</td>\n",
       "      <td>0.000000</td>\n",
       "      <td>0.121401</td>\n",
       "      <td>tulip</td>\n",
       "    </tr>\n",
       "    <tr>\n",
       "      <th>1</th>\n",
       "      <td>0.000000</td>\n",
       "      <td>0.0</td>\n",
       "      <td>0.000000</td>\n",
       "      <td>0.0</td>\n",
       "      <td>0.237838</td>\n",
       "      <td>0.0</td>\n",
       "      <td>0.0</td>\n",
       "      <td>0.093017</td>\n",
       "      <td>0.264558</td>\n",
       "      <td>0.920789</td>\n",
       "      <td>0.0</td>\n",
       "      <td>0.0</td>\n",
       "      <td>0.000000</td>\n",
       "      <td>0.400309</td>\n",
       "      <td>0.000000</td>\n",
       "      <td>0.106230</td>\n",
       "      <td>0.00000</td>\n",
       "      <td>0.0</td>\n",
       "      <td>0.00000</td>\n",
       "      <td>0.060102</td>\n",
       "      <td>0.535544</td>\n",
       "      <td>0.000000</td>\n",
       "      <td>0.0</td>\n",
       "      <td>0.103717</td>\n",
       "      <td>0.165228</td>\n",
       "      <td>0.000000</td>\n",
       "      <td>0.000000</td>\n",
       "      <td>0.002576</td>\n",
       "      <td>0.170129</td>\n",
       "      <td>0.061715</td>\n",
       "      <td>0.000000</td>\n",
       "      <td>0.752108</td>\n",
       "      <td>0.000000</td>\n",
       "      <td>0.000000</td>\n",
       "      <td>0.000000</td>\n",
       "      <td>0.628492</td>\n",
       "      <td>0.0</td>\n",
       "      <td>0.41076</td>\n",
       "      <td>0.406393</td>\n",
       "      <td>0.071372</td>\n",
       "      <td>...</td>\n",
       "      <td>0.000000</td>\n",
       "      <td>0.000000</td>\n",
       "      <td>0.138397</td>\n",
       "      <td>0.637248</td>\n",
       "      <td>0.000000</td>\n",
       "      <td>0.138590</td>\n",
       "      <td>0.0</td>\n",
       "      <td>0.000000</td>\n",
       "      <td>0.0</td>\n",
       "      <td>0.422476</td>\n",
       "      <td>0.670529</td>\n",
       "      <td>0.781056</td>\n",
       "      <td>0.0</td>\n",
       "      <td>0.110672</td>\n",
       "      <td>0.0</td>\n",
       "      <td>0.000000</td>\n",
       "      <td>0.000000</td>\n",
       "      <td>0.0</td>\n",
       "      <td>0.0</td>\n",
       "      <td>0.709380</td>\n",
       "      <td>0.135547</td>\n",
       "      <td>0.000000</td>\n",
       "      <td>0.000000</td>\n",
       "      <td>0.170083</td>\n",
       "      <td>0.000000</td>\n",
       "      <td>0.816642</td>\n",
       "      <td>0.000000</td>\n",
       "      <td>0.279565</td>\n",
       "      <td>0.417180</td>\n",
       "      <td>0.0</td>\n",
       "      <td>0.0</td>\n",
       "      <td>0.041608</td>\n",
       "      <td>0.336323</td>\n",
       "      <td>0.240113</td>\n",
       "      <td>0.0</td>\n",
       "      <td>0.519935</td>\n",
       "      <td>0.024803</td>\n",
       "      <td>0.000000</td>\n",
       "      <td>0.429721</td>\n",
       "      <td>tulip</td>\n",
       "    </tr>\n",
       "    <tr>\n",
       "      <th>2</th>\n",
       "      <td>0.625704</td>\n",
       "      <td>0.0</td>\n",
       "      <td>0.801589</td>\n",
       "      <td>0.0</td>\n",
       "      <td>0.224870</td>\n",
       "      <td>0.0</td>\n",
       "      <td>0.0</td>\n",
       "      <td>0.682549</td>\n",
       "      <td>0.048975</td>\n",
       "      <td>0.466645</td>\n",
       "      <td>0.0</td>\n",
       "      <td>0.0</td>\n",
       "      <td>0.000000</td>\n",
       "      <td>0.400309</td>\n",
       "      <td>0.000000</td>\n",
       "      <td>0.205675</td>\n",
       "      <td>0.00000</td>\n",
       "      <td>0.0</td>\n",
       "      <td>0.00000</td>\n",
       "      <td>0.177515</td>\n",
       "      <td>0.097839</td>\n",
       "      <td>0.371839</td>\n",
       "      <td>0.0</td>\n",
       "      <td>0.040377</td>\n",
       "      <td>0.165228</td>\n",
       "      <td>0.769132</td>\n",
       "      <td>0.676460</td>\n",
       "      <td>0.000000</td>\n",
       "      <td>0.297946</td>\n",
       "      <td>0.054401</td>\n",
       "      <td>0.189379</td>\n",
       "      <td>0.533983</td>\n",
       "      <td>0.000000</td>\n",
       "      <td>0.378692</td>\n",
       "      <td>0.146385</td>\n",
       "      <td>0.542114</td>\n",
       "      <td>0.0</td>\n",
       "      <td>0.00000</td>\n",
       "      <td>0.406393</td>\n",
       "      <td>0.184207</td>\n",
       "      <td>...</td>\n",
       "      <td>0.000000</td>\n",
       "      <td>0.181745</td>\n",
       "      <td>0.000000</td>\n",
       "      <td>0.341513</td>\n",
       "      <td>0.000000</td>\n",
       "      <td>0.037064</td>\n",
       "      <td>0.0</td>\n",
       "      <td>0.000000</td>\n",
       "      <td>0.0</td>\n",
       "      <td>1.294197</td>\n",
       "      <td>0.528932</td>\n",
       "      <td>0.781056</td>\n",
       "      <td>0.0</td>\n",
       "      <td>0.714956</td>\n",
       "      <td>0.0</td>\n",
       "      <td>0.878699</td>\n",
       "      <td>0.138336</td>\n",
       "      <td>0.0</td>\n",
       "      <td>0.0</td>\n",
       "      <td>0.631979</td>\n",
       "      <td>0.112290</td>\n",
       "      <td>0.000000</td>\n",
       "      <td>0.000000</td>\n",
       "      <td>0.000000</td>\n",
       "      <td>0.218178</td>\n",
       "      <td>0.553745</td>\n",
       "      <td>0.000000</td>\n",
       "      <td>0.251926</td>\n",
       "      <td>0.374907</td>\n",
       "      <td>0.0</td>\n",
       "      <td>0.0</td>\n",
       "      <td>0.187912</td>\n",
       "      <td>0.638451</td>\n",
       "      <td>1.114989</td>\n",
       "      <td>0.0</td>\n",
       "      <td>0.060615</td>\n",
       "      <td>0.037552</td>\n",
       "      <td>0.976862</td>\n",
       "      <td>0.185466</td>\n",
       "      <td>daisy</td>\n",
       "    </tr>\n",
       "    <tr>\n",
       "      <th>3</th>\n",
       "      <td>0.623410</td>\n",
       "      <td>0.0</td>\n",
       "      <td>0.000000</td>\n",
       "      <td>0.0</td>\n",
       "      <td>0.000000</td>\n",
       "      <td>0.0</td>\n",
       "      <td>0.0</td>\n",
       "      <td>0.272852</td>\n",
       "      <td>0.002523</td>\n",
       "      <td>0.038982</td>\n",
       "      <td>0.0</td>\n",
       "      <td>0.0</td>\n",
       "      <td>0.000000</td>\n",
       "      <td>0.400309</td>\n",
       "      <td>1.149994</td>\n",
       "      <td>0.103915</td>\n",
       "      <td>0.00000</td>\n",
       "      <td>0.0</td>\n",
       "      <td>0.00000</td>\n",
       "      <td>0.217926</td>\n",
       "      <td>0.158987</td>\n",
       "      <td>0.000000</td>\n",
       "      <td>0.0</td>\n",
       "      <td>0.000000</td>\n",
       "      <td>0.165228</td>\n",
       "      <td>0.890615</td>\n",
       "      <td>0.841761</td>\n",
       "      <td>0.000000</td>\n",
       "      <td>2.084171</td>\n",
       "      <td>0.014883</td>\n",
       "      <td>0.000000</td>\n",
       "      <td>0.059862</td>\n",
       "      <td>0.145074</td>\n",
       "      <td>0.000000</td>\n",
       "      <td>0.935898</td>\n",
       "      <td>0.109056</td>\n",
       "      <td>0.0</td>\n",
       "      <td>0.00000</td>\n",
       "      <td>0.406393</td>\n",
       "      <td>0.141757</td>\n",
       "      <td>...</td>\n",
       "      <td>0.000000</td>\n",
       "      <td>0.000000</td>\n",
       "      <td>0.621985</td>\n",
       "      <td>0.053385</td>\n",
       "      <td>0.000000</td>\n",
       "      <td>0.238631</td>\n",
       "      <td>0.0</td>\n",
       "      <td>0.626012</td>\n",
       "      <td>0.0</td>\n",
       "      <td>1.425908</td>\n",
       "      <td>0.287035</td>\n",
       "      <td>0.781056</td>\n",
       "      <td>0.0</td>\n",
       "      <td>0.202819</td>\n",
       "      <td>0.0</td>\n",
       "      <td>0.000000</td>\n",
       "      <td>0.000000</td>\n",
       "      <td>0.0</td>\n",
       "      <td>0.0</td>\n",
       "      <td>0.275523</td>\n",
       "      <td>0.040934</td>\n",
       "      <td>0.000000</td>\n",
       "      <td>0.242189</td>\n",
       "      <td>0.266399</td>\n",
       "      <td>0.000000</td>\n",
       "      <td>2.219329</td>\n",
       "      <td>0.000000</td>\n",
       "      <td>0.087585</td>\n",
       "      <td>0.281724</td>\n",
       "      <td>0.0</td>\n",
       "      <td>0.0</td>\n",
       "      <td>0.144354</td>\n",
       "      <td>1.084650</td>\n",
       "      <td>0.038052</td>\n",
       "      <td>0.0</td>\n",
       "      <td>0.154302</td>\n",
       "      <td>0.012609</td>\n",
       "      <td>0.268032</td>\n",
       "      <td>0.000000</td>\n",
       "      <td>dandelion</td>\n",
       "    </tr>\n",
       "    <tr>\n",
       "      <th>4</th>\n",
       "      <td>0.000000</td>\n",
       "      <td>0.0</td>\n",
       "      <td>2.787995</td>\n",
       "      <td>0.0</td>\n",
       "      <td>0.000000</td>\n",
       "      <td>0.0</td>\n",
       "      <td>0.0</td>\n",
       "      <td>0.316319</td>\n",
       "      <td>0.046581</td>\n",
       "      <td>0.479164</td>\n",
       "      <td>0.0</td>\n",
       "      <td>0.0</td>\n",
       "      <td>1.227279</td>\n",
       "      <td>0.400309</td>\n",
       "      <td>0.000000</td>\n",
       "      <td>0.143452</td>\n",
       "      <td>0.00000</td>\n",
       "      <td>0.0</td>\n",
       "      <td>0.00000</td>\n",
       "      <td>0.298061</td>\n",
       "      <td>0.224243</td>\n",
       "      <td>0.000000</td>\n",
       "      <td>0.0</td>\n",
       "      <td>0.000000</td>\n",
       "      <td>0.165228</td>\n",
       "      <td>1.716895</td>\n",
       "      <td>1.456905</td>\n",
       "      <td>0.000000</td>\n",
       "      <td>0.403644</td>\n",
       "      <td>0.012960</td>\n",
       "      <td>0.000000</td>\n",
       "      <td>0.486625</td>\n",
       "      <td>0.000000</td>\n",
       "      <td>0.000000</td>\n",
       "      <td>0.000000</td>\n",
       "      <td>0.299567</td>\n",
       "      <td>0.0</td>\n",
       "      <td>0.00000</td>\n",
       "      <td>0.406393</td>\n",
       "      <td>0.303441</td>\n",
       "      <td>...</td>\n",
       "      <td>0.227968</td>\n",
       "      <td>0.000000</td>\n",
       "      <td>0.120828</td>\n",
       "      <td>0.767774</td>\n",
       "      <td>0.000000</td>\n",
       "      <td>0.651707</td>\n",
       "      <td>0.0</td>\n",
       "      <td>0.000000</td>\n",
       "      <td>0.0</td>\n",
       "      <td>0.431107</td>\n",
       "      <td>0.000000</td>\n",
       "      <td>0.781056</td>\n",
       "      <td>0.0</td>\n",
       "      <td>0.224569</td>\n",
       "      <td>0.0</td>\n",
       "      <td>0.000000</td>\n",
       "      <td>0.000000</td>\n",
       "      <td>0.0</td>\n",
       "      <td>0.0</td>\n",
       "      <td>0.037502</td>\n",
       "      <td>0.340741</td>\n",
       "      <td>0.335137</td>\n",
       "      <td>0.000000</td>\n",
       "      <td>0.099934</td>\n",
       "      <td>0.000000</td>\n",
       "      <td>0.878841</td>\n",
       "      <td>0.529598</td>\n",
       "      <td>1.331456</td>\n",
       "      <td>0.131472</td>\n",
       "      <td>0.0</td>\n",
       "      <td>0.0</td>\n",
       "      <td>0.159492</td>\n",
       "      <td>0.000000</td>\n",
       "      <td>0.274653</td>\n",
       "      <td>0.0</td>\n",
       "      <td>0.706840</td>\n",
       "      <td>0.236968</td>\n",
       "      <td>0.000000</td>\n",
       "      <td>0.000000</td>\n",
       "      <td>tulip</td>\n",
       "    </tr>\n",
       "  </tbody>\n",
       "</table>\n",
       "<p>5 rows × 6345 columns</p>\n",
       "</div>"
      ],
      "text/plain": [
       "          0    1         2    3  ...      6341      6342      6343      label\n",
       "0  0.000000  0.0  0.078777  0.0  ...  0.022972  0.000000  0.121401      tulip\n",
       "1  0.000000  0.0  0.000000  0.0  ...  0.024803  0.000000  0.429721      tulip\n",
       "2  0.625704  0.0  0.801589  0.0  ...  0.037552  0.976862  0.185466      daisy\n",
       "3  0.623410  0.0  0.000000  0.0  ...  0.012609  0.268032  0.000000  dandelion\n",
       "4  0.000000  0.0  2.787995  0.0  ...  0.236968  0.000000  0.000000      tulip\n",
       "\n",
       "[5 rows x 6345 columns]"
      ]
     },
     "execution_count": 20,
     "metadata": {},
     "output_type": "execute_result"
    }
   ],
   "source": [
    "#df = pd.read_csv(\"flowers.csv\", sep= \",\")\n",
    "df.head()"
   ]
  },
  {
   "cell_type": "markdown",
   "metadata": {
    "id": "E1sEdFiqElaK"
   },
   "source": [
    "Leemos la data con la libreria pandas y su comando read_csv, ademas denotamos que la separacion es con comas (sep=\",\"). Podemos visualizar las primeras 5 filas con el metodo head()"
   ]
  },
  {
   "cell_type": "code",
   "execution_count": 21,
   "metadata": {
    "colab": {
     "base_uri": "https://localhost:8080/",
     "height": 254
    },
    "id": "SzDqIRUHZ_3l",
    "outputId": "0d6b640e-c2d5-4511-b679-4fc54f7c4901"
   },
   "outputs": [
    {
     "data": {
      "text/html": [
       "<div>\n",
       "<style scoped>\n",
       "    .dataframe tbody tr th:only-of-type {\n",
       "        vertical-align: middle;\n",
       "    }\n",
       "\n",
       "    .dataframe tbody tr th {\n",
       "        vertical-align: top;\n",
       "    }\n",
       "\n",
       "    .dataframe thead th {\n",
       "        text-align: right;\n",
       "    }\n",
       "</style>\n",
       "<table border=\"1\" class=\"dataframe\">\n",
       "  <thead>\n",
       "    <tr style=\"text-align: right;\">\n",
       "      <th></th>\n",
       "      <th>0</th>\n",
       "      <th>1</th>\n",
       "      <th>2</th>\n",
       "      <th>3</th>\n",
       "      <th>4</th>\n",
       "      <th>5</th>\n",
       "      <th>6</th>\n",
       "      <th>7</th>\n",
       "      <th>8</th>\n",
       "      <th>9</th>\n",
       "      <th>10</th>\n",
       "      <th>11</th>\n",
       "      <th>12</th>\n",
       "      <th>13</th>\n",
       "      <th>14</th>\n",
       "      <th>15</th>\n",
       "      <th>16</th>\n",
       "      <th>17</th>\n",
       "      <th>18</th>\n",
       "      <th>19</th>\n",
       "      <th>20</th>\n",
       "      <th>21</th>\n",
       "      <th>22</th>\n",
       "      <th>23</th>\n",
       "      <th>24</th>\n",
       "      <th>25</th>\n",
       "      <th>26</th>\n",
       "      <th>27</th>\n",
       "      <th>28</th>\n",
       "      <th>29</th>\n",
       "      <th>30</th>\n",
       "      <th>31</th>\n",
       "      <th>32</th>\n",
       "      <th>33</th>\n",
       "      <th>34</th>\n",
       "      <th>35</th>\n",
       "      <th>36</th>\n",
       "      <th>37</th>\n",
       "      <th>38</th>\n",
       "      <th>39</th>\n",
       "      <th>...</th>\n",
       "      <th>6305</th>\n",
       "      <th>6306</th>\n",
       "      <th>6307</th>\n",
       "      <th>6308</th>\n",
       "      <th>6309</th>\n",
       "      <th>6310</th>\n",
       "      <th>6311</th>\n",
       "      <th>6312</th>\n",
       "      <th>6313</th>\n",
       "      <th>6314</th>\n",
       "      <th>6315</th>\n",
       "      <th>6316</th>\n",
       "      <th>6317</th>\n",
       "      <th>6318</th>\n",
       "      <th>6319</th>\n",
       "      <th>6320</th>\n",
       "      <th>6321</th>\n",
       "      <th>6322</th>\n",
       "      <th>6323</th>\n",
       "      <th>6324</th>\n",
       "      <th>6325</th>\n",
       "      <th>6326</th>\n",
       "      <th>6327</th>\n",
       "      <th>6328</th>\n",
       "      <th>6329</th>\n",
       "      <th>6330</th>\n",
       "      <th>6331</th>\n",
       "      <th>6332</th>\n",
       "      <th>6333</th>\n",
       "      <th>6334</th>\n",
       "      <th>6335</th>\n",
       "      <th>6336</th>\n",
       "      <th>6337</th>\n",
       "      <th>6338</th>\n",
       "      <th>6339</th>\n",
       "      <th>6340</th>\n",
       "      <th>6341</th>\n",
       "      <th>6342</th>\n",
       "      <th>6343</th>\n",
       "      <th>label</th>\n",
       "    </tr>\n",
       "  </thead>\n",
       "  <tbody>\n",
       "    <tr>\n",
       "      <th>4732</th>\n",
       "      <td>0.000000</td>\n",
       "      <td>0.0</td>\n",
       "      <td>0.578682</td>\n",
       "      <td>0.000000</td>\n",
       "      <td>0.0</td>\n",
       "      <td>0.0</td>\n",
       "      <td>0.00000</td>\n",
       "      <td>0.232464</td>\n",
       "      <td>0.176939</td>\n",
       "      <td>1.297768</td>\n",
       "      <td>0.0</td>\n",
       "      <td>0.0</td>\n",
       "      <td>0.00000</td>\n",
       "      <td>0.400309</td>\n",
       "      <td>0.0</td>\n",
       "      <td>0.061652</td>\n",
       "      <td>0.000000</td>\n",
       "      <td>0.0</td>\n",
       "      <td>0.0</td>\n",
       "      <td>0.224276</td>\n",
       "      <td>0.457829</td>\n",
       "      <td>0.000000</td>\n",
       "      <td>0.0</td>\n",
       "      <td>0.000000</td>\n",
       "      <td>0.165228</td>\n",
       "      <td>0.096963</td>\n",
       "      <td>0.955979</td>\n",
       "      <td>0.0</td>\n",
       "      <td>0.790797</td>\n",
       "      <td>0.141998</td>\n",
       "      <td>0.0</td>\n",
       "      <td>1.398338</td>\n",
       "      <td>0.0</td>\n",
       "      <td>0.064910</td>\n",
       "      <td>0.0</td>\n",
       "      <td>0.938930</td>\n",
       "      <td>0.0</td>\n",
       "      <td>0.00000</td>\n",
       "      <td>0.406393</td>\n",
       "      <td>0.118398</td>\n",
       "      <td>...</td>\n",
       "      <td>0.0</td>\n",
       "      <td>0.000000</td>\n",
       "      <td>0.128592</td>\n",
       "      <td>1.199883</td>\n",
       "      <td>0.403923</td>\n",
       "      <td>0.309340</td>\n",
       "      <td>0.0</td>\n",
       "      <td>0.000000</td>\n",
       "      <td>0.000000</td>\n",
       "      <td>0.229837</td>\n",
       "      <td>0.000000</td>\n",
       "      <td>0.781056</td>\n",
       "      <td>0.0</td>\n",
       "      <td>0.187213</td>\n",
       "      <td>0.0</td>\n",
       "      <td>0.0</td>\n",
       "      <td>0.0</td>\n",
       "      <td>0.0</td>\n",
       "      <td>0.053359</td>\n",
       "      <td>0.421055</td>\n",
       "      <td>0.119674</td>\n",
       "      <td>2.137170</td>\n",
       "      <td>0.000000</td>\n",
       "      <td>0.796693</td>\n",
       "      <td>0.00000</td>\n",
       "      <td>1.174808</td>\n",
       "      <td>0.717819</td>\n",
       "      <td>1.682449</td>\n",
       "      <td>0.162550</td>\n",
       "      <td>0.0</td>\n",
       "      <td>0.0</td>\n",
       "      <td>0.180629</td>\n",
       "      <td>0.000000</td>\n",
       "      <td>0.378018</td>\n",
       "      <td>0.0</td>\n",
       "      <td>0.350704</td>\n",
       "      <td>0.013979</td>\n",
       "      <td>0.0</td>\n",
       "      <td>0.0</td>\n",
       "      <td>tulip</td>\n",
       "    </tr>\n",
       "    <tr>\n",
       "      <th>4733</th>\n",
       "      <td>0.588219</td>\n",
       "      <td>0.0</td>\n",
       "      <td>0.000000</td>\n",
       "      <td>0.000000</td>\n",
       "      <td>0.0</td>\n",
       "      <td>0.0</td>\n",
       "      <td>0.01182</td>\n",
       "      <td>0.192580</td>\n",
       "      <td>0.313624</td>\n",
       "      <td>0.001641</td>\n",
       "      <td>0.0</td>\n",
       "      <td>0.0</td>\n",
       "      <td>0.31947</td>\n",
       "      <td>0.400309</td>\n",
       "      <td>0.0</td>\n",
       "      <td>0.126737</td>\n",
       "      <td>0.000000</td>\n",
       "      <td>0.0</td>\n",
       "      <td>0.0</td>\n",
       "      <td>0.000000</td>\n",
       "      <td>0.295211</td>\n",
       "      <td>0.000000</td>\n",
       "      <td>0.0</td>\n",
       "      <td>0.000000</td>\n",
       "      <td>0.165228</td>\n",
       "      <td>0.000000</td>\n",
       "      <td>1.649918</td>\n",
       "      <td>0.0</td>\n",
       "      <td>0.445519</td>\n",
       "      <td>0.151398</td>\n",
       "      <td>0.0</td>\n",
       "      <td>1.131444</td>\n",
       "      <td>0.0</td>\n",
       "      <td>0.000000</td>\n",
       "      <td>0.0</td>\n",
       "      <td>0.902155</td>\n",
       "      <td>0.0</td>\n",
       "      <td>0.00000</td>\n",
       "      <td>0.406393</td>\n",
       "      <td>0.760491</td>\n",
       "      <td>...</td>\n",
       "      <td>0.0</td>\n",
       "      <td>0.190028</td>\n",
       "      <td>0.475728</td>\n",
       "      <td>0.460450</td>\n",
       "      <td>0.000000</td>\n",
       "      <td>0.789791</td>\n",
       "      <td>0.0</td>\n",
       "      <td>0.556144</td>\n",
       "      <td>0.203137</td>\n",
       "      <td>0.978208</td>\n",
       "      <td>1.299099</td>\n",
       "      <td>0.781056</td>\n",
       "      <td>0.0</td>\n",
       "      <td>0.419412</td>\n",
       "      <td>0.0</td>\n",
       "      <td>0.0</td>\n",
       "      <td>0.0</td>\n",
       "      <td>0.0</td>\n",
       "      <td>0.000000</td>\n",
       "      <td>0.261069</td>\n",
       "      <td>0.103886</td>\n",
       "      <td>0.000000</td>\n",
       "      <td>0.763454</td>\n",
       "      <td>0.253594</td>\n",
       "      <td>0.07747</td>\n",
       "      <td>0.827725</td>\n",
       "      <td>0.000000</td>\n",
       "      <td>1.179257</td>\n",
       "      <td>0.090489</td>\n",
       "      <td>0.0</td>\n",
       "      <td>0.0</td>\n",
       "      <td>0.381331</td>\n",
       "      <td>0.077894</td>\n",
       "      <td>0.196117</td>\n",
       "      <td>0.0</td>\n",
       "      <td>0.313551</td>\n",
       "      <td>0.042839</td>\n",
       "      <td>0.0</td>\n",
       "      <td>0.0</td>\n",
       "      <td>dandelion</td>\n",
       "    </tr>\n",
       "    <tr>\n",
       "      <th>4734</th>\n",
       "      <td>0.494115</td>\n",
       "      <td>0.0</td>\n",
       "      <td>1.088254</td>\n",
       "      <td>0.306946</td>\n",
       "      <td>0.0</td>\n",
       "      <td>0.0</td>\n",
       "      <td>0.00000</td>\n",
       "      <td>0.437063</td>\n",
       "      <td>0.092616</td>\n",
       "      <td>0.180594</td>\n",
       "      <td>0.0</td>\n",
       "      <td>0.0</td>\n",
       "      <td>0.00000</td>\n",
       "      <td>0.400309</td>\n",
       "      <td>0.0</td>\n",
       "      <td>0.525872</td>\n",
       "      <td>0.237092</td>\n",
       "      <td>0.0</td>\n",
       "      <td>0.0</td>\n",
       "      <td>0.190412</td>\n",
       "      <td>0.444854</td>\n",
       "      <td>1.197718</td>\n",
       "      <td>0.0</td>\n",
       "      <td>1.233947</td>\n",
       "      <td>0.165228</td>\n",
       "      <td>0.000000</td>\n",
       "      <td>0.000000</td>\n",
       "      <td>0.0</td>\n",
       "      <td>0.756244</td>\n",
       "      <td>0.348839</td>\n",
       "      <td>0.0</td>\n",
       "      <td>0.742617</td>\n",
       "      <td>0.0</td>\n",
       "      <td>0.405499</td>\n",
       "      <td>0.0</td>\n",
       "      <td>0.898975</td>\n",
       "      <td>0.0</td>\n",
       "      <td>1.68799</td>\n",
       "      <td>0.406393</td>\n",
       "      <td>0.082723</td>\n",
       "      <td>...</td>\n",
       "      <td>0.0</td>\n",
       "      <td>0.000000</td>\n",
       "      <td>0.216200</td>\n",
       "      <td>1.609392</td>\n",
       "      <td>0.000000</td>\n",
       "      <td>0.227339</td>\n",
       "      <td>0.0</td>\n",
       "      <td>1.090973</td>\n",
       "      <td>0.000000</td>\n",
       "      <td>0.539276</td>\n",
       "      <td>0.000000</td>\n",
       "      <td>0.781056</td>\n",
       "      <td>0.0</td>\n",
       "      <td>0.204581</td>\n",
       "      <td>0.0</td>\n",
       "      <td>0.0</td>\n",
       "      <td>0.0</td>\n",
       "      <td>0.0</td>\n",
       "      <td>0.000000</td>\n",
       "      <td>0.712131</td>\n",
       "      <td>0.567823</td>\n",
       "      <td>0.841817</td>\n",
       "      <td>0.000000</td>\n",
       "      <td>0.000000</td>\n",
       "      <td>0.00000</td>\n",
       "      <td>0.581575</td>\n",
       "      <td>0.149409</td>\n",
       "      <td>0.000000</td>\n",
       "      <td>0.670424</td>\n",
       "      <td>0.0</td>\n",
       "      <td>0.0</td>\n",
       "      <td>0.019179</td>\n",
       "      <td>0.000000</td>\n",
       "      <td>0.510766</td>\n",
       "      <td>0.0</td>\n",
       "      <td>0.043267</td>\n",
       "      <td>0.184329</td>\n",
       "      <td>0.0</td>\n",
       "      <td>0.0</td>\n",
       "      <td>sunflower</td>\n",
       "    </tr>\n",
       "    <tr>\n",
       "      <th>4735</th>\n",
       "      <td>NaN</td>\n",
       "      <td>NaN</td>\n",
       "      <td>NaN</td>\n",
       "      <td>NaN</td>\n",
       "      <td>NaN</td>\n",
       "      <td>NaN</td>\n",
       "      <td>NaN</td>\n",
       "      <td>NaN</td>\n",
       "      <td>NaN</td>\n",
       "      <td>NaN</td>\n",
       "      <td>NaN</td>\n",
       "      <td>NaN</td>\n",
       "      <td>NaN</td>\n",
       "      <td>NaN</td>\n",
       "      <td>NaN</td>\n",
       "      <td>NaN</td>\n",
       "      <td>NaN</td>\n",
       "      <td>NaN</td>\n",
       "      <td>NaN</td>\n",
       "      <td>NaN</td>\n",
       "      <td>NaN</td>\n",
       "      <td>NaN</td>\n",
       "      <td>NaN</td>\n",
       "      <td>NaN</td>\n",
       "      <td>NaN</td>\n",
       "      <td>NaN</td>\n",
       "      <td>NaN</td>\n",
       "      <td>NaN</td>\n",
       "      <td>NaN</td>\n",
       "      <td>NaN</td>\n",
       "      <td>NaN</td>\n",
       "      <td>NaN</td>\n",
       "      <td>NaN</td>\n",
       "      <td>NaN</td>\n",
       "      <td>NaN</td>\n",
       "      <td>NaN</td>\n",
       "      <td>NaN</td>\n",
       "      <td>NaN</td>\n",
       "      <td>NaN</td>\n",
       "      <td>NaN</td>\n",
       "      <td>...</td>\n",
       "      <td>NaN</td>\n",
       "      <td>NaN</td>\n",
       "      <td>NaN</td>\n",
       "      <td>NaN</td>\n",
       "      <td>NaN</td>\n",
       "      <td>NaN</td>\n",
       "      <td>NaN</td>\n",
       "      <td>NaN</td>\n",
       "      <td>NaN</td>\n",
       "      <td>NaN</td>\n",
       "      <td>NaN</td>\n",
       "      <td>NaN</td>\n",
       "      <td>NaN</td>\n",
       "      <td>NaN</td>\n",
       "      <td>NaN</td>\n",
       "      <td>NaN</td>\n",
       "      <td>NaN</td>\n",
       "      <td>NaN</td>\n",
       "      <td>NaN</td>\n",
       "      <td>NaN</td>\n",
       "      <td>NaN</td>\n",
       "      <td>NaN</td>\n",
       "      <td>NaN</td>\n",
       "      <td>NaN</td>\n",
       "      <td>NaN</td>\n",
       "      <td>NaN</td>\n",
       "      <td>NaN</td>\n",
       "      <td>NaN</td>\n",
       "      <td>NaN</td>\n",
       "      <td>NaN</td>\n",
       "      <td>NaN</td>\n",
       "      <td>NaN</td>\n",
       "      <td>NaN</td>\n",
       "      <td>NaN</td>\n",
       "      <td>NaN</td>\n",
       "      <td>NaN</td>\n",
       "      <td>NaN</td>\n",
       "      <td>NaN</td>\n",
       "      <td>NaN</td>\n",
       "      <td>NaN</td>\n",
       "    </tr>\n",
       "    <tr>\n",
       "      <th>4736</th>\n",
       "      <td>0.766342</td>\n",
       "      <td>0.0</td>\n",
       "      <td>0.000000</td>\n",
       "      <td>0.000000</td>\n",
       "      <td>0.0</td>\n",
       "      <td>0.0</td>\n",
       "      <td>0.00000</td>\n",
       "      <td>0.058295</td>\n",
       "      <td>0.123551</td>\n",
       "      <td>0.530356</td>\n",
       "      <td>0.0</td>\n",
       "      <td>0.0</td>\n",
       "      <td>0.00000</td>\n",
       "      <td>0.400309</td>\n",
       "      <td>0.0</td>\n",
       "      <td>0.151682</td>\n",
       "      <td>0.000000</td>\n",
       "      <td>0.0</td>\n",
       "      <td>0.0</td>\n",
       "      <td>0.012464</td>\n",
       "      <td>0.675372</td>\n",
       "      <td>0.000000</td>\n",
       "      <td>0.0</td>\n",
       "      <td>0.000000</td>\n",
       "      <td>0.165228</td>\n",
       "      <td>1.153073</td>\n",
       "      <td>0.635474</td>\n",
       "      <td>0.0</td>\n",
       "      <td>0.005682</td>\n",
       "      <td>0.107860</td>\n",
       "      <td>0.0</td>\n",
       "      <td>0.590411</td>\n",
       "      <td>0.0</td>\n",
       "      <td>0.000000</td>\n",
       "      <td>0.0</td>\n",
       "      <td>0.174451</td>\n",
       "      <td>0.0</td>\n",
       "      <td>0.00000</td>\n",
       "      <td>0.406393</td>\n",
       "      <td>0.732105</td>\n",
       "      <td>...</td>\n",
       "      <td>0.0</td>\n",
       "      <td>0.000000</td>\n",
       "      <td>0.200820</td>\n",
       "      <td>0.015939</td>\n",
       "      <td>0.000000</td>\n",
       "      <td>0.172044</td>\n",
       "      <td>0.0</td>\n",
       "      <td>0.521289</td>\n",
       "      <td>0.000000</td>\n",
       "      <td>0.813045</td>\n",
       "      <td>0.000000</td>\n",
       "      <td>0.781056</td>\n",
       "      <td>0.0</td>\n",
       "      <td>0.240687</td>\n",
       "      <td>0.0</td>\n",
       "      <td>0.0</td>\n",
       "      <td>0.0</td>\n",
       "      <td>0.0</td>\n",
       "      <td>0.000000</td>\n",
       "      <td>0.069392</td>\n",
       "      <td>0.005346</td>\n",
       "      <td>3.434068</td>\n",
       "      <td>0.974132</td>\n",
       "      <td>1.565354</td>\n",
       "      <td>0.00000</td>\n",
       "      <td>0.581867</td>\n",
       "      <td>0.000000</td>\n",
       "      <td>1.753013</td>\n",
       "      <td>0.257863</td>\n",
       "      <td>0.0</td>\n",
       "      <td>0.0</td>\n",
       "      <td>0.134159</td>\n",
       "      <td>1.268431</td>\n",
       "      <td>2.198634</td>\n",
       "      <td>0.0</td>\n",
       "      <td>0.022650</td>\n",
       "      <td>0.026002</td>\n",
       "      <td>0.0</td>\n",
       "      <td>0.0</td>\n",
       "      <td>daisy</td>\n",
       "    </tr>\n",
       "  </tbody>\n",
       "</table>\n",
       "<p>5 rows × 6345 columns</p>\n",
       "</div>"
      ],
      "text/plain": [
       "             0    1         2         3  ...      6341  6342  6343      label\n",
       "4732  0.000000  0.0  0.578682  0.000000  ...  0.013979   0.0   0.0      tulip\n",
       "4733  0.588219  0.0  0.000000  0.000000  ...  0.042839   0.0   0.0  dandelion\n",
       "4734  0.494115  0.0  1.088254  0.306946  ...  0.184329   0.0   0.0  sunflower\n",
       "4735       NaN  NaN       NaN       NaN  ...       NaN   NaN   NaN        NaN\n",
       "4736  0.766342  0.0  0.000000  0.000000  ...  0.026002   0.0   0.0      daisy\n",
       "\n",
       "[5 rows x 6345 columns]"
      ]
     },
     "execution_count": 21,
     "metadata": {},
     "output_type": "execute_result"
    }
   ],
   "source": [
    "df.tail()"
   ]
  },
  {
   "cell_type": "markdown",
   "metadata": {
    "id": "-lTzXn3QE8hQ"
   },
   "source": [
    "Al igual que antes, ahora visualizamos las ultimas 5 filas con tail()"
   ]
  },
  {
   "cell_type": "code",
   "execution_count": 22,
   "metadata": {
    "colab": {
     "base_uri": "https://localhost:8080/"
    },
    "id": "8r8jsxFhuGch",
    "outputId": "73406517-08ad-490d-df63-e2f09b746704"
   },
   "outputs": [
    {
     "name": "stdout",
     "output_type": "stream",
     "text": [
      "(4737, 6345)\n"
     ]
    }
   ],
   "source": [
    "print(df.shape)"
   ]
  },
  {
   "cell_type": "markdown",
   "metadata": {
    "id": "OAhc8GTfFE-t"
   },
   "source": [
    "Podemos ver las dimensiones del dataframe con shape, donde nos indica que este tiene 4737 filas y 6345 columnas."
   ]
  },
  {
   "cell_type": "code",
   "execution_count": 23,
   "metadata": {
    "colab": {
     "base_uri": "https://localhost:8080/"
    },
    "id": "I7-picz3aqts",
    "outputId": "a1a4766c-6a0c-4e88-cd73-b1c5da8c877a"
   },
   "outputs": [
    {
     "data": {
      "text/plain": [
       "0        float64\n",
       "1        float64\n",
       "2        float64\n",
       "3        float64\n",
       "4        float64\n",
       "          ...   \n",
       "6340     float64\n",
       "6341     float64\n",
       "6342     float64\n",
       "6343     float64\n",
       "label     object\n",
       "Length: 6345, dtype: object"
      ]
     },
     "execution_count": 23,
     "metadata": {},
     "output_type": "execute_result"
    }
   ],
   "source": [
    "df.dtypes"
   ]
  },
  {
   "cell_type": "markdown",
   "metadata": {
    "id": "f-0sCMlsFQXL"
   },
   "source": [
    "Con el metodo dtypes se puede analizar que se tiene 6344 columnas de tipo float y una ultima columna de tipo object"
   ]
  },
  {
   "cell_type": "code",
   "execution_count": 24,
   "metadata": {
    "colab": {
     "base_uri": "https://localhost:8080/"
    },
    "id": "4jB5pD16auyf",
    "outputId": "1422a5ca-9196-44fb-c38b-f3de0857d540"
   },
   "outputs": [
    {
     "data": {
      "text/plain": [
       "count          4317\n",
       "unique            5\n",
       "top       dandelion\n",
       "freq           1052\n",
       "Name: label, dtype: object"
      ]
     },
     "execution_count": 24,
     "metadata": {},
     "output_type": "execute_result"
    }
   ],
   "source": [
    "df.label.describe()"
   ]
  },
  {
   "cell_type": "markdown",
   "metadata": {
    "id": "3NjSbdpTF00b"
   },
   "source": [
    "Por ultimo se puede saber que sobre la ultima columna existen 4317 objetos, sin considerar los valores **NaN**, que existen 5 tipos de flor de las cuales **'dandelion'** es la mas repetida cuya frecuencia es de 1052."
   ]
  },
  {
   "cell_type": "code",
   "execution_count": 25,
   "metadata": {
    "colab": {
     "base_uri": "https://localhost:8080/"
    },
    "id": "mxbf6vyPFJwY",
    "outputId": "d16bb084-ad12-4af2-8e4d-0972ad99d4ac"
   },
   "outputs": [
    {
     "data": {
      "text/plain": [
       "0        420\n",
       "1        420\n",
       "2        420\n",
       "3        420\n",
       "4        420\n",
       "        ... \n",
       "6340     420\n",
       "6341     420\n",
       "6342     420\n",
       "6343     420\n",
       "label    420\n",
       "Length: 6345, dtype: int64"
      ]
     },
     "execution_count": 25,
     "metadata": {},
     "output_type": "execute_result"
    }
   ],
   "source": [
    "pd.isna(df).sum()"
   ]
  },
  {
   "cell_type": "markdown",
   "metadata": {
    "id": "GYPLMg34GgIU"
   },
   "source": [
    "Ahora, procedemos a filtrar el dataframe, primero queremos analizar cuantos valores **NaN** existen por columna, y se logra mediante el metodo isna() de pandas y sum() para sumar la cantidad. Notese que existen 420 valores nulos en cada columna."
   ]
  },
  {
   "cell_type": "code",
   "execution_count": 26,
   "metadata": {
    "colab": {
     "base_uri": "https://localhost:8080/"
    },
    "id": "hrBibm1otk8R",
    "outputId": "ff448a58-7ba5-46ad-aa9a-6e913111d7a6"
   },
   "outputs": [
    {
     "name": "stdout",
     "output_type": "stream",
     "text": [
      "(4317, 6345)\n"
     ]
    }
   ],
   "source": [
    "df.dropna(axis=0, how='any', inplace= True)\n",
    "df.drop_duplicates()\n",
    "print(df.shape)"
   ]
  },
  {
   "cell_type": "markdown",
   "metadata": {
    "id": "5XfkA2OTG41I"
   },
   "source": [
    "Para filtrar los valores nulos se utiliza el metodo dropna(), donde se especifica mediante axis y how que se eliminan las filas donde hayan al menos 1 valor NaN. Tambien mediante drop_duplicates se eliminan las filas repetidas en el caso de haber. Notamos que tras esto bajaron la cantidad de filas a 4317."
   ]
  },
  {
   "cell_type": "code",
   "execution_count": 27,
   "metadata": {
    "id": "b1syDfF41hkl"
   },
   "outputs": [],
   "source": [
    "from sklearn import preprocessing\n",
    "\n",
    "df_copy_1 = df.copy()\n",
    "df_copy_1 = df_copy_1.iloc[:, 0:6344]\n",
    "x = df_copy_1.to_numpy()\n",
    "scaler = preprocessing.MinMaxScaler()\n",
    "x_scaled = scaler.fit_transform(x)\n",
    "df_normalized = pd.DataFrame(x_scaled)"
   ]
  },
  {
   "cell_type": "markdown",
   "metadata": {
    "id": "K4EwwhE3Heng"
   },
   "source": [
    "Buscamos normalizar los datos, mediante el metodo MinMaxScaler de sklearn, debido a que este escala los valores del dataframe entre 0 y 1. Decidimos utilizar este metodo ya que comprime los datos \"inliers\" a un rango estrecho ( de [0, 0.005]) por lo que no es necesario verificar outliers ni features de baja varianza.\n",
    "\n",
    "**Referencia**\n",
    "\n",
    "\n",
    "*   https://www.geeksforgeeks.org/standardscaler-minmaxscaler-and-robustscaler-techniques-ml/\n",
    "\n"
   ]
  },
  {
   "cell_type": "code",
   "execution_count": 28,
   "metadata": {
    "colab": {
     "base_uri": "https://localhost:8080/",
     "height": 410
    },
    "id": "dV2yet1a5zxh",
    "outputId": "c5913357-4782-4533-d2bc-2b154324eee5"
   },
   "outputs": [
    {
     "data": {
      "text/html": [
       "<div>\n",
       "<style scoped>\n",
       "    .dataframe tbody tr th:only-of-type {\n",
       "        vertical-align: middle;\n",
       "    }\n",
       "\n",
       "    .dataframe tbody tr th {\n",
       "        vertical-align: top;\n",
       "    }\n",
       "\n",
       "    .dataframe thead th {\n",
       "        text-align: right;\n",
       "    }\n",
       "</style>\n",
       "<table border=\"1\" class=\"dataframe\">\n",
       "  <thead>\n",
       "    <tr style=\"text-align: right;\">\n",
       "      <th></th>\n",
       "      <th>0</th>\n",
       "      <th>1</th>\n",
       "      <th>2</th>\n",
       "      <th>3</th>\n",
       "      <th>4</th>\n",
       "      <th>5</th>\n",
       "      <th>6</th>\n",
       "      <th>7</th>\n",
       "      <th>8</th>\n",
       "      <th>9</th>\n",
       "      <th>10</th>\n",
       "      <th>11</th>\n",
       "      <th>12</th>\n",
       "      <th>13</th>\n",
       "      <th>14</th>\n",
       "      <th>15</th>\n",
       "      <th>16</th>\n",
       "      <th>17</th>\n",
       "      <th>18</th>\n",
       "      <th>19</th>\n",
       "      <th>20</th>\n",
       "      <th>21</th>\n",
       "      <th>22</th>\n",
       "      <th>23</th>\n",
       "      <th>24</th>\n",
       "      <th>25</th>\n",
       "      <th>26</th>\n",
       "      <th>27</th>\n",
       "      <th>28</th>\n",
       "      <th>29</th>\n",
       "      <th>30</th>\n",
       "      <th>31</th>\n",
       "      <th>32</th>\n",
       "      <th>33</th>\n",
       "      <th>34</th>\n",
       "      <th>35</th>\n",
       "      <th>36</th>\n",
       "      <th>37</th>\n",
       "      <th>38</th>\n",
       "      <th>39</th>\n",
       "      <th>...</th>\n",
       "      <th>6304</th>\n",
       "      <th>6305</th>\n",
       "      <th>6306</th>\n",
       "      <th>6307</th>\n",
       "      <th>6308</th>\n",
       "      <th>6309</th>\n",
       "      <th>6310</th>\n",
       "      <th>6311</th>\n",
       "      <th>6312</th>\n",
       "      <th>6313</th>\n",
       "      <th>6314</th>\n",
       "      <th>6315</th>\n",
       "      <th>6316</th>\n",
       "      <th>6317</th>\n",
       "      <th>6318</th>\n",
       "      <th>6319</th>\n",
       "      <th>6320</th>\n",
       "      <th>6321</th>\n",
       "      <th>6322</th>\n",
       "      <th>6323</th>\n",
       "      <th>6324</th>\n",
       "      <th>6325</th>\n",
       "      <th>6326</th>\n",
       "      <th>6327</th>\n",
       "      <th>6328</th>\n",
       "      <th>6329</th>\n",
       "      <th>6330</th>\n",
       "      <th>6331</th>\n",
       "      <th>6332</th>\n",
       "      <th>6333</th>\n",
       "      <th>6334</th>\n",
       "      <th>6335</th>\n",
       "      <th>6336</th>\n",
       "      <th>6337</th>\n",
       "      <th>6338</th>\n",
       "      <th>6339</th>\n",
       "      <th>6340</th>\n",
       "      <th>6341</th>\n",
       "      <th>6342</th>\n",
       "      <th>6343</th>\n",
       "    </tr>\n",
       "  </thead>\n",
       "  <tbody>\n",
       "    <tr>\n",
       "      <th>0</th>\n",
       "      <td>0.000000</td>\n",
       "      <td>0.0</td>\n",
       "      <td>0.014432</td>\n",
       "      <td>0.000000</td>\n",
       "      <td>0.000000</td>\n",
       "      <td>0.0</td>\n",
       "      <td>0.0</td>\n",
       "      <td>0.318401</td>\n",
       "      <td>0.147144</td>\n",
       "      <td>0.132942</td>\n",
       "      <td>0.0</td>\n",
       "      <td>0.000000</td>\n",
       "      <td>0.192312</td>\n",
       "      <td>0.0</td>\n",
       "      <td>0.000000</td>\n",
       "      <td>0.029093</td>\n",
       "      <td>0.089633</td>\n",
       "      <td>0.000000</td>\n",
       "      <td>0.02737</td>\n",
       "      <td>0.057233</td>\n",
       "      <td>0.099472</td>\n",
       "      <td>0.00000</td>\n",
       "      <td>0.000000</td>\n",
       "      <td>0.000000</td>\n",
       "      <td>0.0</td>\n",
       "      <td>0.118423</td>\n",
       "      <td>0.141962</td>\n",
       "      <td>0.006047</td>\n",
       "      <td>0.033874</td>\n",
       "      <td>0.081340</td>\n",
       "      <td>0.000000</td>\n",
       "      <td>0.109207</td>\n",
       "      <td>0.000000</td>\n",
       "      <td>0.000000</td>\n",
       "      <td>0.000000</td>\n",
       "      <td>0.262477</td>\n",
       "      <td>0.000000</td>\n",
       "      <td>0.000000</td>\n",
       "      <td>0.0</td>\n",
       "      <td>0.069275</td>\n",
       "      <td>...</td>\n",
       "      <td>0.108691</td>\n",
       "      <td>0.035590</td>\n",
       "      <td>0.130003</td>\n",
       "      <td>0.097296</td>\n",
       "      <td>0.473411</td>\n",
       "      <td>0.112442</td>\n",
       "      <td>0.065157</td>\n",
       "      <td>0.000000</td>\n",
       "      <td>0.000000</td>\n",
       "      <td>0.0</td>\n",
       "      <td>0.100592</td>\n",
       "      <td>0.000000</td>\n",
       "      <td>0.0</td>\n",
       "      <td>0.000000</td>\n",
       "      <td>0.035239</td>\n",
       "      <td>0.000000</td>\n",
       "      <td>0.000000</td>\n",
       "      <td>0.000000</td>\n",
       "      <td>0.0</td>\n",
       "      <td>0.0</td>\n",
       "      <td>0.192048</td>\n",
       "      <td>0.038220</td>\n",
       "      <td>0.181529</td>\n",
       "      <td>0.000000</td>\n",
       "      <td>0.112386</td>\n",
       "      <td>0.014916</td>\n",
       "      <td>0.378882</td>\n",
       "      <td>0.000000</td>\n",
       "      <td>0.064613</td>\n",
       "      <td>0.043259</td>\n",
       "      <td>0.0</td>\n",
       "      <td>0.0</td>\n",
       "      <td>0.228159</td>\n",
       "      <td>0.060382</td>\n",
       "      <td>0.172615</td>\n",
       "      <td>0.0</td>\n",
       "      <td>0.041276</td>\n",
       "      <td>0.018473</td>\n",
       "      <td>0.000000</td>\n",
       "      <td>0.028800</td>\n",
       "    </tr>\n",
       "    <tr>\n",
       "      <th>1</th>\n",
       "      <td>0.000000</td>\n",
       "      <td>0.0</td>\n",
       "      <td>0.000000</td>\n",
       "      <td>0.000000</td>\n",
       "      <td>0.065823</td>\n",
       "      <td>0.0</td>\n",
       "      <td>0.0</td>\n",
       "      <td>0.030866</td>\n",
       "      <td>0.098291</td>\n",
       "      <td>0.226921</td>\n",
       "      <td>0.0</td>\n",
       "      <td>0.000000</td>\n",
       "      <td>0.000000</td>\n",
       "      <td>0.0</td>\n",
       "      <td>0.000000</td>\n",
       "      <td>0.052603</td>\n",
       "      <td>0.000000</td>\n",
       "      <td>0.000000</td>\n",
       "      <td>0.00000</td>\n",
       "      <td>0.046820</td>\n",
       "      <td>0.133671</td>\n",
       "      <td>0.00000</td>\n",
       "      <td>0.000000</td>\n",
       "      <td>0.027635</td>\n",
       "      <td>0.0</td>\n",
       "      <td>0.000000</td>\n",
       "      <td>0.000000</td>\n",
       "      <td>0.000881</td>\n",
       "      <td>0.064168</td>\n",
       "      <td>0.047230</td>\n",
       "      <td>0.000000</td>\n",
       "      <td>0.303999</td>\n",
       "      <td>0.000000</td>\n",
       "      <td>0.000000</td>\n",
       "      <td>0.000000</td>\n",
       "      <td>0.222017</td>\n",
       "      <td>0.000000</td>\n",
       "      <td>0.133867</td>\n",
       "      <td>0.0</td>\n",
       "      <td>0.029201</td>\n",
       "      <td>...</td>\n",
       "      <td>0.140146</td>\n",
       "      <td>0.000000</td>\n",
       "      <td>0.000000</td>\n",
       "      <td>0.048742</td>\n",
       "      <td>0.205167</td>\n",
       "      <td>0.000000</td>\n",
       "      <td>0.057980</td>\n",
       "      <td>0.000000</td>\n",
       "      <td>0.000000</td>\n",
       "      <td>0.0</td>\n",
       "      <td>0.115490</td>\n",
       "      <td>0.115347</td>\n",
       "      <td>0.0</td>\n",
       "      <td>0.000000</td>\n",
       "      <td>0.062350</td>\n",
       "      <td>0.000000</td>\n",
       "      <td>0.000000</td>\n",
       "      <td>0.000000</td>\n",
       "      <td>0.0</td>\n",
       "      <td>0.0</td>\n",
       "      <td>0.193503</td>\n",
       "      <td>0.074783</td>\n",
       "      <td>0.000000</td>\n",
       "      <td>0.000000</td>\n",
       "      <td>0.036298</td>\n",
       "      <td>0.000000</td>\n",
       "      <td>0.214943</td>\n",
       "      <td>0.000000</td>\n",
       "      <td>0.048720</td>\n",
       "      <td>0.099554</td>\n",
       "      <td>0.0</td>\n",
       "      <td>0.0</td>\n",
       "      <td>0.032775</td>\n",
       "      <td>0.061821</td>\n",
       "      <td>0.050892</td>\n",
       "      <td>0.0</td>\n",
       "      <td>0.199464</td>\n",
       "      <td>0.019946</td>\n",
       "      <td>0.000000</td>\n",
       "      <td>0.101944</td>\n",
       "    </tr>\n",
       "    <tr>\n",
       "      <th>2</th>\n",
       "      <td>0.147090</td>\n",
       "      <td>0.0</td>\n",
       "      <td>0.146853</td>\n",
       "      <td>0.000000</td>\n",
       "      <td>0.062234</td>\n",
       "      <td>0.0</td>\n",
       "      <td>0.0</td>\n",
       "      <td>0.226495</td>\n",
       "      <td>0.018195</td>\n",
       "      <td>0.115001</td>\n",
       "      <td>0.0</td>\n",
       "      <td>0.000000</td>\n",
       "      <td>0.000000</td>\n",
       "      <td>0.0</td>\n",
       "      <td>0.000000</td>\n",
       "      <td>0.101846</td>\n",
       "      <td>0.000000</td>\n",
       "      <td>0.000000</td>\n",
       "      <td>0.00000</td>\n",
       "      <td>0.138285</td>\n",
       "      <td>0.024420</td>\n",
       "      <td>0.10521</td>\n",
       "      <td>0.000000</td>\n",
       "      <td>0.010758</td>\n",
       "      <td>0.0</td>\n",
       "      <td>0.196119</td>\n",
       "      <td>0.089442</td>\n",
       "      <td>0.000000</td>\n",
       "      <td>0.112377</td>\n",
       "      <td>0.041633</td>\n",
       "      <td>0.044083</td>\n",
       "      <td>0.215833</td>\n",
       "      <td>0.000000</td>\n",
       "      <td>0.094234</td>\n",
       "      <td>0.051156</td>\n",
       "      <td>0.191504</td>\n",
       "      <td>0.000000</td>\n",
       "      <td>0.000000</td>\n",
       "      <td>0.0</td>\n",
       "      <td>0.075365</td>\n",
       "      <td>...</td>\n",
       "      <td>0.080084</td>\n",
       "      <td>0.000000</td>\n",
       "      <td>0.037781</td>\n",
       "      <td>0.000000</td>\n",
       "      <td>0.109953</td>\n",
       "      <td>0.000000</td>\n",
       "      <td>0.015506</td>\n",
       "      <td>0.000000</td>\n",
       "      <td>0.000000</td>\n",
       "      <td>0.0</td>\n",
       "      <td>0.353786</td>\n",
       "      <td>0.090989</td>\n",
       "      <td>0.0</td>\n",
       "      <td>0.000000</td>\n",
       "      <td>0.402789</td>\n",
       "      <td>0.000000</td>\n",
       "      <td>0.278498</td>\n",
       "      <td>0.081827</td>\n",
       "      <td>0.0</td>\n",
       "      <td>0.0</td>\n",
       "      <td>0.172390</td>\n",
       "      <td>0.061952</td>\n",
       "      <td>0.000000</td>\n",
       "      <td>0.000000</td>\n",
       "      <td>0.000000</td>\n",
       "      <td>0.070824</td>\n",
       "      <td>0.145737</td>\n",
       "      <td>0.000000</td>\n",
       "      <td>0.043903</td>\n",
       "      <td>0.089466</td>\n",
       "      <td>0.0</td>\n",
       "      <td>0.0</td>\n",
       "      <td>0.148020</td>\n",
       "      <td>0.117357</td>\n",
       "      <td>0.236325</td>\n",
       "      <td>0.0</td>\n",
       "      <td>0.023254</td>\n",
       "      <td>0.030198</td>\n",
       "      <td>0.275271</td>\n",
       "      <td>0.043999</td>\n",
       "    </tr>\n",
       "    <tr>\n",
       "      <th>3</th>\n",
       "      <td>0.146551</td>\n",
       "      <td>0.0</td>\n",
       "      <td>0.000000</td>\n",
       "      <td>0.000000</td>\n",
       "      <td>0.000000</td>\n",
       "      <td>0.0</td>\n",
       "      <td>0.0</td>\n",
       "      <td>0.090542</td>\n",
       "      <td>0.000937</td>\n",
       "      <td>0.009607</td>\n",
       "      <td>0.0</td>\n",
       "      <td>0.000000</td>\n",
       "      <td>0.000000</td>\n",
       "      <td>0.0</td>\n",
       "      <td>0.368594</td>\n",
       "      <td>0.051457</td>\n",
       "      <td>0.000000</td>\n",
       "      <td>0.000000</td>\n",
       "      <td>0.00000</td>\n",
       "      <td>0.169765</td>\n",
       "      <td>0.039683</td>\n",
       "      <td>0.00000</td>\n",
       "      <td>0.000000</td>\n",
       "      <td>0.000000</td>\n",
       "      <td>0.0</td>\n",
       "      <td>0.227096</td>\n",
       "      <td>0.111298</td>\n",
       "      <td>0.000000</td>\n",
       "      <td>0.786095</td>\n",
       "      <td>0.011389</td>\n",
       "      <td>0.000000</td>\n",
       "      <td>0.024196</td>\n",
       "      <td>0.047849</td>\n",
       "      <td>0.000000</td>\n",
       "      <td>0.327063</td>\n",
       "      <td>0.038524</td>\n",
       "      <td>0.000000</td>\n",
       "      <td>0.000000</td>\n",
       "      <td>0.0</td>\n",
       "      <td>0.057998</td>\n",
       "      <td>...</td>\n",
       "      <td>0.018746</td>\n",
       "      <td>0.000000</td>\n",
       "      <td>0.000000</td>\n",
       "      <td>0.219056</td>\n",
       "      <td>0.017188</td>\n",
       "      <td>0.000000</td>\n",
       "      <td>0.099833</td>\n",
       "      <td>0.000000</td>\n",
       "      <td>0.119791</td>\n",
       "      <td>0.0</td>\n",
       "      <td>0.389791</td>\n",
       "      <td>0.049377</td>\n",
       "      <td>0.0</td>\n",
       "      <td>0.000000</td>\n",
       "      <td>0.114263</td>\n",
       "      <td>0.000000</td>\n",
       "      <td>0.000000</td>\n",
       "      <td>0.000000</td>\n",
       "      <td>0.0</td>\n",
       "      <td>0.0</td>\n",
       "      <td>0.075156</td>\n",
       "      <td>0.022584</td>\n",
       "      <td>0.000000</td>\n",
       "      <td>0.061155</td>\n",
       "      <td>0.056853</td>\n",
       "      <td>0.000000</td>\n",
       "      <td>0.584189</td>\n",
       "      <td>0.000000</td>\n",
       "      <td>0.015263</td>\n",
       "      <td>0.067229</td>\n",
       "      <td>0.0</td>\n",
       "      <td>0.0</td>\n",
       "      <td>0.113709</td>\n",
       "      <td>0.199375</td>\n",
       "      <td>0.008065</td>\n",
       "      <td>0.0</td>\n",
       "      <td>0.059195</td>\n",
       "      <td>0.010140</td>\n",
       "      <td>0.075529</td>\n",
       "      <td>0.000000</td>\n",
       "    </tr>\n",
       "    <tr>\n",
       "      <th>4</th>\n",
       "      <td>0.000000</td>\n",
       "      <td>0.0</td>\n",
       "      <td>0.510769</td>\n",
       "      <td>0.000000</td>\n",
       "      <td>0.000000</td>\n",
       "      <td>0.0</td>\n",
       "      <td>0.0</td>\n",
       "      <td>0.104966</td>\n",
       "      <td>0.017306</td>\n",
       "      <td>0.118086</td>\n",
       "      <td>0.0</td>\n",
       "      <td>0.000000</td>\n",
       "      <td>0.267874</td>\n",
       "      <td>0.0</td>\n",
       "      <td>0.000000</td>\n",
       "      <td>0.071035</td>\n",
       "      <td>0.000000</td>\n",
       "      <td>0.000000</td>\n",
       "      <td>0.00000</td>\n",
       "      <td>0.232191</td>\n",
       "      <td>0.055971</td>\n",
       "      <td>0.00000</td>\n",
       "      <td>0.000000</td>\n",
       "      <td>0.000000</td>\n",
       "      <td>0.0</td>\n",
       "      <td>0.437787</td>\n",
       "      <td>0.192633</td>\n",
       "      <td>0.000000</td>\n",
       "      <td>0.152244</td>\n",
       "      <td>0.009918</td>\n",
       "      <td>0.000000</td>\n",
       "      <td>0.196691</td>\n",
       "      <td>0.000000</td>\n",
       "      <td>0.000000</td>\n",
       "      <td>0.000000</td>\n",
       "      <td>0.105823</td>\n",
       "      <td>0.000000</td>\n",
       "      <td>0.000000</td>\n",
       "      <td>0.0</td>\n",
       "      <td>0.124148</td>\n",
       "      <td>...</td>\n",
       "      <td>0.105428</td>\n",
       "      <td>0.057964</td>\n",
       "      <td>0.000000</td>\n",
       "      <td>0.042554</td>\n",
       "      <td>0.247191</td>\n",
       "      <td>0.000000</td>\n",
       "      <td>0.272648</td>\n",
       "      <td>0.000000</td>\n",
       "      <td>0.000000</td>\n",
       "      <td>0.0</td>\n",
       "      <td>0.117849</td>\n",
       "      <td>0.000000</td>\n",
       "      <td>0.0</td>\n",
       "      <td>0.000000</td>\n",
       "      <td>0.126516</td>\n",
       "      <td>0.000000</td>\n",
       "      <td>0.000000</td>\n",
       "      <td>0.000000</td>\n",
       "      <td>0.0</td>\n",
       "      <td>0.0</td>\n",
       "      <td>0.010230</td>\n",
       "      <td>0.187993</td>\n",
       "      <td>0.046518</td>\n",
       "      <td>0.000000</td>\n",
       "      <td>0.021327</td>\n",
       "      <td>0.000000</td>\n",
       "      <td>0.231316</td>\n",
       "      <td>0.154039</td>\n",
       "      <td>0.232033</td>\n",
       "      <td>0.031374</td>\n",
       "      <td>0.0</td>\n",
       "      <td>0.0</td>\n",
       "      <td>0.125633</td>\n",
       "      <td>0.000000</td>\n",
       "      <td>0.058213</td>\n",
       "      <td>0.0</td>\n",
       "      <td>0.271167</td>\n",
       "      <td>0.190559</td>\n",
       "      <td>0.000000</td>\n",
       "      <td>0.000000</td>\n",
       "    </tr>\n",
       "    <tr>\n",
       "      <th>5</th>\n",
       "      <td>0.124992</td>\n",
       "      <td>0.0</td>\n",
       "      <td>0.103300</td>\n",
       "      <td>0.000000</td>\n",
       "      <td>0.015637</td>\n",
       "      <td>0.0</td>\n",
       "      <td>0.0</td>\n",
       "      <td>0.014916</td>\n",
       "      <td>0.209617</td>\n",
       "      <td>0.013171</td>\n",
       "      <td>0.0</td>\n",
       "      <td>0.018019</td>\n",
       "      <td>0.000000</td>\n",
       "      <td>0.0</td>\n",
       "      <td>0.000000</td>\n",
       "      <td>0.077782</td>\n",
       "      <td>0.170905</td>\n",
       "      <td>0.128266</td>\n",
       "      <td>0.00000</td>\n",
       "      <td>0.056956</td>\n",
       "      <td>0.072151</td>\n",
       "      <td>0.00000</td>\n",
       "      <td>0.024398</td>\n",
       "      <td>0.000000</td>\n",
       "      <td>0.0</td>\n",
       "      <td>0.000000</td>\n",
       "      <td>0.119949</td>\n",
       "      <td>0.000000</td>\n",
       "      <td>0.026312</td>\n",
       "      <td>0.116559</td>\n",
       "      <td>0.153658</td>\n",
       "      <td>0.078337</td>\n",
       "      <td>0.252014</td>\n",
       "      <td>0.000000</td>\n",
       "      <td>0.000000</td>\n",
       "      <td>0.090519</td>\n",
       "      <td>0.000000</td>\n",
       "      <td>0.000000</td>\n",
       "      <td>0.0</td>\n",
       "      <td>0.059127</td>\n",
       "      <td>...</td>\n",
       "      <td>0.055078</td>\n",
       "      <td>0.047301</td>\n",
       "      <td>0.293531</td>\n",
       "      <td>0.128489</td>\n",
       "      <td>0.034504</td>\n",
       "      <td>0.000000</td>\n",
       "      <td>0.054601</td>\n",
       "      <td>0.161242</td>\n",
       "      <td>0.115168</td>\n",
       "      <td>0.0</td>\n",
       "      <td>0.398333</td>\n",
       "      <td>0.152360</td>\n",
       "      <td>0.0</td>\n",
       "      <td>0.563237</td>\n",
       "      <td>0.353172</td>\n",
       "      <td>0.000000</td>\n",
       "      <td>0.000000</td>\n",
       "      <td>0.000000</td>\n",
       "      <td>0.0</td>\n",
       "      <td>0.0</td>\n",
       "      <td>0.209990</td>\n",
       "      <td>0.135042</td>\n",
       "      <td>0.000000</td>\n",
       "      <td>0.000000</td>\n",
       "      <td>0.000000</td>\n",
       "      <td>0.055938</td>\n",
       "      <td>0.158634</td>\n",
       "      <td>0.000000</td>\n",
       "      <td>0.000000</td>\n",
       "      <td>0.083188</td>\n",
       "      <td>0.0</td>\n",
       "      <td>0.0</td>\n",
       "      <td>0.124147</td>\n",
       "      <td>0.000000</td>\n",
       "      <td>0.026734</td>\n",
       "      <td>0.0</td>\n",
       "      <td>0.042233</td>\n",
       "      <td>0.054627</td>\n",
       "      <td>0.000000</td>\n",
       "      <td>0.000000</td>\n",
       "    </tr>\n",
       "    <tr>\n",
       "      <th>6</th>\n",
       "      <td>0.000000</td>\n",
       "      <td>0.0</td>\n",
       "      <td>0.512409</td>\n",
       "      <td>0.000000</td>\n",
       "      <td>0.000000</td>\n",
       "      <td>0.0</td>\n",
       "      <td>0.0</td>\n",
       "      <td>0.045509</td>\n",
       "      <td>0.025562</td>\n",
       "      <td>0.043961</td>\n",
       "      <td>0.0</td>\n",
       "      <td>0.000000</td>\n",
       "      <td>0.000000</td>\n",
       "      <td>0.0</td>\n",
       "      <td>0.000000</td>\n",
       "      <td>0.055826</td>\n",
       "      <td>0.000000</td>\n",
       "      <td>0.000000</td>\n",
       "      <td>0.00000</td>\n",
       "      <td>0.000000</td>\n",
       "      <td>0.189777</td>\n",
       "      <td>0.00000</td>\n",
       "      <td>0.000000</td>\n",
       "      <td>0.000000</td>\n",
       "      <td>0.0</td>\n",
       "      <td>0.341803</td>\n",
       "      <td>0.131269</td>\n",
       "      <td>0.000000</td>\n",
       "      <td>0.014667</td>\n",
       "      <td>0.258180</td>\n",
       "      <td>0.000000</td>\n",
       "      <td>0.421655</td>\n",
       "      <td>0.000000</td>\n",
       "      <td>0.000000</td>\n",
       "      <td>0.000000</td>\n",
       "      <td>0.135863</td>\n",
       "      <td>0.000000</td>\n",
       "      <td>0.000000</td>\n",
       "      <td>0.0</td>\n",
       "      <td>0.332436</td>\n",
       "      <td>...</td>\n",
       "      <td>0.013961</td>\n",
       "      <td>0.000000</td>\n",
       "      <td>0.047409</td>\n",
       "      <td>0.072067</td>\n",
       "      <td>0.098002</td>\n",
       "      <td>0.000000</td>\n",
       "      <td>0.012961</td>\n",
       "      <td>0.000000</td>\n",
       "      <td>0.261410</td>\n",
       "      <td>0.0</td>\n",
       "      <td>0.047642</td>\n",
       "      <td>0.000000</td>\n",
       "      <td>0.0</td>\n",
       "      <td>0.000000</td>\n",
       "      <td>0.125035</td>\n",
       "      <td>0.000000</td>\n",
       "      <td>0.000000</td>\n",
       "      <td>0.000000</td>\n",
       "      <td>0.0</td>\n",
       "      <td>0.0</td>\n",
       "      <td>0.098694</td>\n",
       "      <td>0.038701</td>\n",
       "      <td>0.175141</td>\n",
       "      <td>0.000000</td>\n",
       "      <td>0.271765</td>\n",
       "      <td>0.000000</td>\n",
       "      <td>0.306382</td>\n",
       "      <td>0.000000</td>\n",
       "      <td>0.310038</td>\n",
       "      <td>0.037167</td>\n",
       "      <td>0.0</td>\n",
       "      <td>0.0</td>\n",
       "      <td>0.202854</td>\n",
       "      <td>0.000000</td>\n",
       "      <td>0.710270</td>\n",
       "      <td>0.0</td>\n",
       "      <td>0.185185</td>\n",
       "      <td>0.114072</td>\n",
       "      <td>0.020741</td>\n",
       "      <td>0.000000</td>\n",
       "    </tr>\n",
       "    <tr>\n",
       "      <th>7</th>\n",
       "      <td>0.000000</td>\n",
       "      <td>0.0</td>\n",
       "      <td>0.050618</td>\n",
       "      <td>0.077472</td>\n",
       "      <td>0.000000</td>\n",
       "      <td>0.0</td>\n",
       "      <td>0.0</td>\n",
       "      <td>0.170318</td>\n",
       "      <td>0.023094</td>\n",
       "      <td>0.188041</td>\n",
       "      <td>0.0</td>\n",
       "      <td>0.000000</td>\n",
       "      <td>0.000000</td>\n",
       "      <td>0.0</td>\n",
       "      <td>0.000000</td>\n",
       "      <td>0.261958</td>\n",
       "      <td>0.000000</td>\n",
       "      <td>0.000000</td>\n",
       "      <td>0.00000</td>\n",
       "      <td>0.085182</td>\n",
       "      <td>0.095210</td>\n",
       "      <td>0.00000</td>\n",
       "      <td>0.000000</td>\n",
       "      <td>0.067936</td>\n",
       "      <td>0.0</td>\n",
       "      <td>0.000000</td>\n",
       "      <td>0.122379</td>\n",
       "      <td>0.000000</td>\n",
       "      <td>0.137195</td>\n",
       "      <td>0.122901</td>\n",
       "      <td>0.199787</td>\n",
       "      <td>0.367968</td>\n",
       "      <td>0.000000</td>\n",
       "      <td>0.000000</td>\n",
       "      <td>0.000000</td>\n",
       "      <td>0.322081</td>\n",
       "      <td>0.000000</td>\n",
       "      <td>0.014217</td>\n",
       "      <td>0.0</td>\n",
       "      <td>0.177894</td>\n",
       "      <td>...</td>\n",
       "      <td>0.006480</td>\n",
       "      <td>0.000000</td>\n",
       "      <td>0.000000</td>\n",
       "      <td>0.080182</td>\n",
       "      <td>0.073953</td>\n",
       "      <td>0.000000</td>\n",
       "      <td>0.008134</td>\n",
       "      <td>0.000000</td>\n",
       "      <td>0.100315</td>\n",
       "      <td>0.0</td>\n",
       "      <td>0.038614</td>\n",
       "      <td>0.092513</td>\n",
       "      <td>0.0</td>\n",
       "      <td>0.000000</td>\n",
       "      <td>0.174299</td>\n",
       "      <td>0.000000</td>\n",
       "      <td>0.047280</td>\n",
       "      <td>0.000000</td>\n",
       "      <td>0.0</td>\n",
       "      <td>0.0</td>\n",
       "      <td>0.071369</td>\n",
       "      <td>0.177101</td>\n",
       "      <td>0.000000</td>\n",
       "      <td>0.035130</td>\n",
       "      <td>0.000000</td>\n",
       "      <td>0.000000</td>\n",
       "      <td>0.165658</td>\n",
       "      <td>0.000000</td>\n",
       "      <td>0.018347</td>\n",
       "      <td>0.076433</td>\n",
       "      <td>0.0</td>\n",
       "      <td>0.0</td>\n",
       "      <td>0.235886</td>\n",
       "      <td>0.000000</td>\n",
       "      <td>0.205697</td>\n",
       "      <td>0.0</td>\n",
       "      <td>0.070666</td>\n",
       "      <td>0.131977</td>\n",
       "      <td>0.225902</td>\n",
       "      <td>0.318157</td>\n",
       "    </tr>\n",
       "    <tr>\n",
       "      <th>8</th>\n",
       "      <td>0.000000</td>\n",
       "      <td>0.0</td>\n",
       "      <td>0.214746</td>\n",
       "      <td>0.000000</td>\n",
       "      <td>0.000000</td>\n",
       "      <td>0.0</td>\n",
       "      <td>0.0</td>\n",
       "      <td>0.156057</td>\n",
       "      <td>0.029957</td>\n",
       "      <td>0.078831</td>\n",
       "      <td>0.0</td>\n",
       "      <td>0.000000</td>\n",
       "      <td>0.000000</td>\n",
       "      <td>0.0</td>\n",
       "      <td>0.000000</td>\n",
       "      <td>0.065216</td>\n",
       "      <td>0.000000</td>\n",
       "      <td>0.000000</td>\n",
       "      <td>0.00000</td>\n",
       "      <td>0.307415</td>\n",
       "      <td>0.000000</td>\n",
       "      <td>0.00000</td>\n",
       "      <td>0.000000</td>\n",
       "      <td>0.012052</td>\n",
       "      <td>0.0</td>\n",
       "      <td>0.000000</td>\n",
       "      <td>0.000000</td>\n",
       "      <td>0.000000</td>\n",
       "      <td>0.006101</td>\n",
       "      <td>0.077492</td>\n",
       "      <td>0.000000</td>\n",
       "      <td>0.353487</td>\n",
       "      <td>0.000000</td>\n",
       "      <td>0.000000</td>\n",
       "      <td>0.000000</td>\n",
       "      <td>0.011033</td>\n",
       "      <td>0.000000</td>\n",
       "      <td>0.000000</td>\n",
       "      <td>0.0</td>\n",
       "      <td>0.092890</td>\n",
       "      <td>...</td>\n",
       "      <td>0.077795</td>\n",
       "      <td>0.567615</td>\n",
       "      <td>0.256822</td>\n",
       "      <td>0.000861</td>\n",
       "      <td>0.421488</td>\n",
       "      <td>0.000000</td>\n",
       "      <td>0.073392</td>\n",
       "      <td>0.000000</td>\n",
       "      <td>0.509681</td>\n",
       "      <td>0.0</td>\n",
       "      <td>0.051489</td>\n",
       "      <td>0.000000</td>\n",
       "      <td>0.0</td>\n",
       "      <td>0.000000</td>\n",
       "      <td>0.061433</td>\n",
       "      <td>0.000000</td>\n",
       "      <td>0.000000</td>\n",
       "      <td>0.000000</td>\n",
       "      <td>0.0</td>\n",
       "      <td>0.0</td>\n",
       "      <td>0.000307</td>\n",
       "      <td>0.025515</td>\n",
       "      <td>0.251781</td>\n",
       "      <td>0.000000</td>\n",
       "      <td>0.000000</td>\n",
       "      <td>0.000000</td>\n",
       "      <td>0.084752</td>\n",
       "      <td>0.276179</td>\n",
       "      <td>0.253843</td>\n",
       "      <td>0.057983</td>\n",
       "      <td>0.0</td>\n",
       "      <td>0.0</td>\n",
       "      <td>0.000000</td>\n",
       "      <td>0.000000</td>\n",
       "      <td>0.054163</td>\n",
       "      <td>0.0</td>\n",
       "      <td>0.169466</td>\n",
       "      <td>0.044848</td>\n",
       "      <td>0.000000</td>\n",
       "      <td>0.311506</td>\n",
       "    </tr>\n",
       "    <tr>\n",
       "      <th>9</th>\n",
       "      <td>0.000000</td>\n",
       "      <td>0.0</td>\n",
       "      <td>0.092769</td>\n",
       "      <td>0.000000</td>\n",
       "      <td>0.000000</td>\n",
       "      <td>0.0</td>\n",
       "      <td>0.0</td>\n",
       "      <td>0.046732</td>\n",
       "      <td>0.021257</td>\n",
       "      <td>0.329820</td>\n",
       "      <td>0.0</td>\n",
       "      <td>0.000000</td>\n",
       "      <td>0.273968</td>\n",
       "      <td>0.0</td>\n",
       "      <td>0.000000</td>\n",
       "      <td>0.024063</td>\n",
       "      <td>0.000000</td>\n",
       "      <td>0.000000</td>\n",
       "      <td>0.00000</td>\n",
       "      <td>0.028436</td>\n",
       "      <td>0.061722</td>\n",
       "      <td>0.00000</td>\n",
       "      <td>0.000000</td>\n",
       "      <td>0.000000</td>\n",
       "      <td>0.0</td>\n",
       "      <td>0.000550</td>\n",
       "      <td>0.000000</td>\n",
       "      <td>0.159440</td>\n",
       "      <td>0.123372</td>\n",
       "      <td>0.036721</td>\n",
       "      <td>0.118998</td>\n",
       "      <td>0.298178</td>\n",
       "      <td>0.000000</td>\n",
       "      <td>0.000000</td>\n",
       "      <td>0.000000</td>\n",
       "      <td>0.258919</td>\n",
       "      <td>0.029549</td>\n",
       "      <td>0.000000</td>\n",
       "      <td>0.0</td>\n",
       "      <td>0.055484</td>\n",
       "      <td>...</td>\n",
       "      <td>0.063518</td>\n",
       "      <td>0.000000</td>\n",
       "      <td>0.000000</td>\n",
       "      <td>0.044246</td>\n",
       "      <td>0.306781</td>\n",
       "      <td>0.068841</td>\n",
       "      <td>0.020689</td>\n",
       "      <td>0.000000</td>\n",
       "      <td>0.050400</td>\n",
       "      <td>0.0</td>\n",
       "      <td>0.038590</td>\n",
       "      <td>0.000000</td>\n",
       "      <td>0.0</td>\n",
       "      <td>0.000000</td>\n",
       "      <td>0.088456</td>\n",
       "      <td>0.205924</td>\n",
       "      <td>0.000000</td>\n",
       "      <td>0.000000</td>\n",
       "      <td>0.0</td>\n",
       "      <td>0.0</td>\n",
       "      <td>0.064345</td>\n",
       "      <td>0.099278</td>\n",
       "      <td>0.080196</td>\n",
       "      <td>0.000000</td>\n",
       "      <td>0.139387</td>\n",
       "      <td>0.000000</td>\n",
       "      <td>0.339769</td>\n",
       "      <td>0.000000</td>\n",
       "      <td>0.034058</td>\n",
       "      <td>0.014279</td>\n",
       "      <td>0.0</td>\n",
       "      <td>0.0</td>\n",
       "      <td>0.041396</td>\n",
       "      <td>0.121159</td>\n",
       "      <td>0.051127</td>\n",
       "      <td>0.0</td>\n",
       "      <td>0.250754</td>\n",
       "      <td>0.031594</td>\n",
       "      <td>0.000000</td>\n",
       "      <td>0.000000</td>\n",
       "    </tr>\n",
       "  </tbody>\n",
       "</table>\n",
       "<p>10 rows × 6344 columns</p>\n",
       "</div>"
      ],
      "text/plain": [
       "       0     1         2         3     ...      6340      6341      6342      6343\n",
       "0  0.000000   0.0  0.014432  0.000000  ...  0.041276  0.018473  0.000000  0.028800\n",
       "1  0.000000   0.0  0.000000  0.000000  ...  0.199464  0.019946  0.000000  0.101944\n",
       "2  0.147090   0.0  0.146853  0.000000  ...  0.023254  0.030198  0.275271  0.043999\n",
       "3  0.146551   0.0  0.000000  0.000000  ...  0.059195  0.010140  0.075529  0.000000\n",
       "4  0.000000   0.0  0.510769  0.000000  ...  0.271167  0.190559  0.000000  0.000000\n",
       "5  0.124992   0.0  0.103300  0.000000  ...  0.042233  0.054627  0.000000  0.000000\n",
       "6  0.000000   0.0  0.512409  0.000000  ...  0.185185  0.114072  0.020741  0.000000\n",
       "7  0.000000   0.0  0.050618  0.077472  ...  0.070666  0.131977  0.225902  0.318157\n",
       "8  0.000000   0.0  0.214746  0.000000  ...  0.169466  0.044848  0.000000  0.311506\n",
       "9  0.000000   0.0  0.092769  0.000000  ...  0.250754  0.031594  0.000000  0.000000\n",
       "\n",
       "[10 rows x 6344 columns]"
      ]
     },
     "execution_count": 28,
     "metadata": {},
     "output_type": "execute_result"
    }
   ],
   "source": [
    "df_normalized.head(10)"
   ]
  },
  {
   "cell_type": "markdown",
   "metadata": {
    "id": "-mcmc5tFJNll"
   },
   "source": [
    "Se puede ver que se normalizo con exito el dataframe"
   ]
  },
  {
   "cell_type": "code",
   "execution_count": 29,
   "metadata": {
    "colab": {
     "base_uri": "https://localhost:8080/"
    },
    "id": "1RwfaDQD8ac2",
    "outputId": "7db6f3e0-b992-4ee0-d773-27dc68a0d5b1"
   },
   "outputs": [
    {
     "name": "stdout",
     "output_type": "stream",
     "text": [
      "[[0.         0.         0.01443223 ... 0.01847298 0.         0.02880031]\n",
      " [0.         0.         0.         ... 0.01994558 0.         0.10194411]\n",
      " [0.14709002 0.         0.14685333 ... 0.03019757 0.27527108 0.04399883]\n",
      " ...\n",
      " [0.13827805 0.         0.         ... 0.03444952 0.         0.        ]\n",
      " [0.1161562  0.         0.19937126 ... 0.1482286  0.         0.        ]\n",
      " [0.18015129 0.         0.         ... 0.0209094  0.         0.        ]]\n"
     ]
    }
   ],
   "source": [
    "matriz = np.matrix(df_normalized.to_numpy())\n",
    "print(matriz)"
   ]
  },
  {
   "cell_type": "markdown",
   "metadata": {
    "id": "wIbEwdNoJXqv"
   },
   "source": [
    "Mediante numpy y su comando matrix() se pueden llevar los valores del dataframe a una matriz."
   ]
  },
  {
   "cell_type": "code",
   "execution_count": 30,
   "metadata": {
    "colab": {
     "base_uri": "https://localhost:8080/"
    },
    "id": "5WD9O3hHOJpf",
    "outputId": "77157687-2fd3-47c5-b6c8-9d2b99e3c35f"
   },
   "outputs": [
    {
     "name": "stdout",
     "output_type": "stream",
     "text": [
      "['tulip' 'tulip' 'daisy' ... 'dandelion' 'sunflower' 'daisy']\n"
     ]
    }
   ],
   "source": [
    "vector_labels = df['label'].to_numpy()\n",
    "print(vector_labels)"
   ]
  },
  {
   "cell_type": "markdown",
   "metadata": {
    "id": "Ps0G2zuqJs9L"
   },
   "source": [
    "Al igual que se llevan las labels a un vector."
   ]
  },
  {
   "cell_type": "code",
   "execution_count": 31,
   "metadata": {
    "id": "oqZuwM4kxa8U"
   },
   "outputs": [],
   "source": [
    "from sklearn.model_selection import train_test_split\n",
    "X_train, X_test, y_train, y_test = train_test_split(matriz, vector_labels, test_size = 0.2, random_state = 1)"
   ]
  },
  {
   "cell_type": "markdown",
   "metadata": {
    "id": "JmHYMaS7JzIC"
   },
   "source": [
    "Se importa el comando train_test_split de sklearn para separar los datos en un subset para entrenar y otro para testear los clasificadores, esto en la proporcion de 80-20. Ojo que se le agrega un random_state para poder correr el codigo varias y veces y los datos no cambien."
   ]
  },
  {
   "cell_type": "code",
   "execution_count": 32,
   "metadata": {
    "colab": {
     "base_uri": "https://localhost:8080/"
    },
    "id": "lfGIbXa2yPRQ",
    "outputId": "25ae174d-dce3-44dd-ae25-a1c2e0f041d2"
   },
   "outputs": [
    {
     "name": "stdout",
     "output_type": "stream",
     "text": [
      "(3453, 6344)\n",
      "(3453,)\n",
      "(864, 6344)\n",
      "(864,)\n"
     ]
    }
   ],
   "source": [
    "print(X_train.shape)\n",
    "print(y_train.shape)\n",
    "print(X_test.shape)\n",
    "print(y_test.shape)"
   ]
  },
  {
   "cell_type": "code",
   "execution_count": 33,
   "metadata": {
    "colab": {
     "base_uri": "https://localhost:8080/"
    },
    "id": "79FqPJbU3whS",
    "outputId": "b20c284c-245c-4138-c760-efd8cf85db2b"
   },
   "outputs": [
    {
     "name": "stdout",
     "output_type": "stream",
     "text": [
      "Training:\n",
      "Número de 'daisy': 610\n",
      "Número de 'sunflower': 579\n",
      "Número de 'tulip': 785\n",
      "Número de 'rose': 628\n",
      "Número de 'dandelion': 851\n",
      "\n",
      "Testing:\n",
      "Número de 'dandelion': 201\n",
      "Número de 'rose': 156\n",
      "Número de 'tulip': 199\n",
      "Número de 'sunflower': 154\n",
      "Número de 'daisy': 154\n",
      "\n",
      "Total:\n",
      "Número de 'tulip': 984\n",
      "Número de 'daisy': 764\n",
      "Número de 'dandelion': 1052\n",
      "Número de 'sunflower': 733\n",
      "Número de 'rose': 784\n"
     ]
    }
   ],
   "source": [
    "from collections import Counter\n",
    "\n",
    "\n",
    "print(\"Training:\")\n",
    "dic_train = dict(Counter(y_train))\n",
    "for key, value in dic_train.items():\n",
    "  print(f\"Número de '{key}': {value}\")\n",
    "\n",
    "print(\"\\nTesting:\")\n",
    "dic_test = dict(Counter(y_test))\n",
    "for key, value in dic_test.items():\n",
    "  print(f\"Número de '{key}': {value}\")\n",
    "\n",
    "print(\"\\nTotal:\")\n",
    "dic_total = dict(Counter(vector_labels))\n",
    "for key, value in dic_total.items():\n",
    "  print(f\"Número de '{key}': {value}\")"
   ]
  },
  {
   "cell_type": "markdown",
   "metadata": {
    "id": "y4b1I_9VKOxd"
   },
   "source": [
    "Se ven las proporciones de los subsets y cuantas flores quedaron en cada uno, mediante uso de la libreria Collections.\n",
    "\n",
    "**Referencia:**\n",
    "\n",
    "* https://www.pythonforbeginners.com/collection/python-collections-counter"
   ]
  },
  {
   "cell_type": "code",
   "execution_count": 34,
   "metadata": {
    "colab": {
     "base_uri": "https://localhost:8080/",
     "height": 410
    },
    "id": "od1SLyNhP7c8",
    "outputId": "4e098b68-c798-4ab1-e912-8dad4c93bb0d"
   },
   "outputs": [
    {
     "data": {
      "image/png": "[encoded data removed]",
      "text/plain": [
       "<Figure size 720x432 with 1 Axes>"
      ]
     },
     "metadata": {},
     "output_type": "display_data"
    }
   ],
   "source": [
    "import matplotlib.pyplot as plt\n",
    "\n",
    "df_num = pd.DataFrame.from_dict(dic_total, orient='index', columns=['Cantidad'])\n",
    "\n",
    "sns.set(rc={\"figure.figsize\":(10, 6)})\n",
    "sns.set_theme(style=\"whitegrid\")\n",
    "bar_plot = sns.barplot(x=df_num.index, y=df_num.Cantidad)\n",
    "plt.xlabel(\"Tipo de Flor\")\n",
    "plt.ylabel(\"Cantidad\")\n",
    "plt.title(\"Cantidad de tipos de flor\")\n",
    "\n",
    "plt.show()\n"
   ]
  },
  {
   "cell_type": "markdown",
   "metadata": {
    "id": "k-ptGy8mKwMt"
   },
   "source": [
    "Se pueden graficar cuantas flores de cada tipo existen en total con un grafico de barras que se realizo con la libreria seaborn y su comando bar_plot()\n",
    "\n",
    "**Referencia:**\n",
    "\n",
    "* https://seaborn.pydata.org/generated/seaborn.barplot.html"
   ]
  },
  {
   "cell_type": "markdown",
   "metadata": {
    "id": "beXlMi5UINUY"
   },
   "source": [
    "### **Parte 2:** Clasificacion"
   ]
  },
  {
   "cell_type": "markdown",
   "metadata": {
    "id": "PmYtmUdYLOPK"
   },
   "source": [
    "En esta parte se buscan 10 clasificadores diferentes de sklearn y se realiza un fit a los datos de entrenamiento que se tienen."
   ]
  },
  {
   "cell_type": "code",
   "execution_count": 56,
   "metadata": {
    "colab": {
     "base_uri": "https://localhost:8080/"
    },
    "id": "uYDSDEHPGdr5",
    "outputId": "52d3441a-9139-4cc5-9ec8-e6e2b99aacca"
   },
   "outputs": [
    {
     "data": {
      "text/plain": [
       "SVC(C=1.0, break_ties=False, cache_size=200, class_weight=None, coef0=0.0,\n",
       "    decision_function_shape='ovr', degree=3, gamma='scale', kernel='poly',\n",
       "    max_iter=-1, probability=False, random_state=None, shrinking=True,\n",
       "    tol=0.001, verbose=False)"
      ]
     },
     "execution_count": 56,
     "metadata": {},
     "output_type": "execute_result"
    }
   ],
   "source": [
    "from sklearn import svm\n",
    "\n",
    "clasif_svm = svm.SVC(kernel = 'poly', degree=3, max_iter=-1)\n",
    "\n",
    "clasif_svm.fit(X_train, y_train)"
   ]
  },
  {
   "cell_type": "markdown",
   "metadata": {
    "id": "21WQD3rqLaJ8"
   },
   "source": [
    "Se le cambio el kernel a uno polinomial (*'poly'*) de grado 3 sin un maximo de iteraciones.\n",
    "\n",
    "**Referencia:**\n",
    "\n",
    "* https://scikit-learn.org/stable/modules/generated/sklearn.svm.SVC.html#sklearn.svm.SVC"
   ]
  },
  {
   "cell_type": "code",
   "execution_count": 62,
   "metadata": {
    "colab": {
     "base_uri": "https://localhost:8080/"
    },
    "id": "SLi7kUeeeQid",
    "outputId": "4b1ef329-16a7-419f-ecfb-490096aa1a2e"
   },
   "outputs": [
    {
     "data": {
      "text/plain": [
       "DecisionTreeClassifier(ccp_alpha=0.0, class_weight=None, criterion='entropy',\n",
       "                       max_depth=None, max_features=None, max_leaf_nodes=None,\n",
       "                       min_impurity_decrease=0.0, min_impurity_split=None,\n",
       "                       min_samples_leaf=1, min_samples_split=10,\n",
       "                       min_weight_fraction_leaf=0.0, presort='deprecated',\n",
       "                       random_state=None, splitter='best')"
      ]
     },
     "execution_count": 62,
     "metadata": {},
     "output_type": "execute_result"
    }
   ],
   "source": [
    "from sklearn.tree import DecisionTreeClassifier\n",
    "\n",
    "clasif_dec = DecisionTreeClassifier(criterion='entropy', splitter='best', min_samples_split=10)\n",
    "clasif_dec.fit(X_train, y_train)"
   ]
  },
  {
   "cell_type": "markdown",
   "metadata": {
    "id": "BxJ24e7RMGRv"
   },
   "source": [
    "Para este clasificador, se le ajustaron los parametros de la funcion que calcula la calidad cuando ocurre una separacion a 'entropy', la estrategia de cuando se elige la separacion en un nodo a 'best' y un minimo de separaciones a 10.\n",
    "\n",
    "\n",
    "**Referencia:**\n",
    "\n",
    "* https://scikit-learn.org/stable/modules/generated/sklearn.tree.DecisionTreeClassifier.html#sklearn.tree.DecisionTreeClassifier"
   ]
  },
  {
   "cell_type": "code",
   "execution_count": 72,
   "metadata": {
    "colab": {
     "base_uri": "https://localhost:8080/"
    },
    "id": "rmKFS-3KgYhu",
    "outputId": "aee3c586-9754-4414-bc74-9b6ed19cb8e2"
   },
   "outputs": [
    {
     "data": {
      "text/plain": [
       "GaussianNB(priors=None, var_smoothing=0.001)"
      ]
     },
     "execution_count": 72,
     "metadata": {},
     "output_type": "execute_result"
    }
   ],
   "source": [
    "from sklearn.naive_bayes import GaussianNB\n",
    "\n",
    "clasif_gnb = GaussianNB(priors=None, var_smoothing=1e-3)\n",
    "clasif_gnb.fit(X_train, y_train)"
   ]
  },
  {
   "cell_type": "markdown",
   "metadata": {
    "id": "YjGZRKH8MKu8"
   },
   "source": [
    "Para este clasificador, se le ajustaron los parametros de 'priors' a ninguna clase en especifico y el de la varianza maxima a 1e-3.\n",
    "\n",
    "\n",
    "**Referencia:**\n",
    "\n",
    "* https://scikit-learn.org/stable/modules/generated/sklearn.naive_bayes.GaussianNB.html#sklearn.naive_bayes.GaussianNB"
   ]
  },
  {
   "cell_type": "code",
   "execution_count": 76,
   "metadata": {
    "colab": {
     "base_uri": "https://localhost:8080/"
    },
    "id": "WaJRBHQIjCJv",
    "outputId": "032afe64-60b1-47d0-983c-a1b36c434140"
   },
   "outputs": [
    {
     "name": "stderr",
     "output_type": "stream",
     "text": [
      "/usr/local/lib/python3.7/dist-packages/sklearn/linear_model/_logistic.py:940: ConvergenceWarning: lbfgs failed to converge (status=1):\n",
      "STOP: TOTAL NO. of ITERATIONS REACHED LIMIT.\n",
      "\n",
      "Increase the number of iterations (max_iter) or scale the data as shown in:\n",
      "    https://scikit-learn.org/stable/modules/preprocessing.html\n",
      "Please also refer to the documentation for alternative solver options:\n",
      "    https://scikit-learn.org/stable/modules/linear_model.html#logistic-regression\n",
      "  extra_warning_msg=_LOGISTIC_SOLVER_CONVERGENCE_MSG)\n"
     ]
    },
    {
     "data": {
      "text/plain": [
       "LogisticRegression(C=0.5, class_weight=None, dual=False, fit_intercept=True,\n",
       "                   intercept_scaling=1, l1_ratio=None, max_iter=100,\n",
       "                   multi_class='auto', n_jobs=None, penalty='l2',\n",
       "                   random_state=None, solver='lbfgs', tol=0.0001, verbose=0,\n",
       "                   warm_start=False)"
      ]
     },
     "execution_count": 76,
     "metadata": {},
     "output_type": "execute_result"
    }
   ],
   "source": [
    "from sklearn.linear_model import LogisticRegression\n",
    "\n",
    "clasif_log = LogisticRegression(dual=False, C=.5, penalty='l2')\n",
    "clasif_log.fit(X_train, y_train)"
   ]
  },
  {
   "cell_type": "markdown",
   "metadata": {
    "id": "VGwspryaMUi8"
   },
   "source": [
    "Para este, se aumento la regularizacion de fallas con 'C', 'penalty' y 'dual'\n",
    "\n",
    "**Referencia**\n",
    "\n",
    "* https://scikit-learn.org/stable/modules/generated/sklearn.linear_model.LogisticRegression.html"
   ]
  },
  {
   "cell_type": "code",
   "execution_count": 80,
   "metadata": {
    "colab": {
     "base_uri": "https://localhost:8080/"
    },
    "id": "RvneW956C_j6",
    "outputId": "68387eb7-8b5f-42c1-e268-fd9381231f84"
   },
   "outputs": [
    {
     "data": {
      "text/plain": [
       "KNeighborsClassifier(algorithm='auto', leaf_size=30, metric='minkowski',\n",
       "                     metric_params=None, n_jobs=None, n_neighbors=20, p=2,\n",
       "                     weights='uniform')"
      ]
     },
     "execution_count": 80,
     "metadata": {},
     "output_type": "execute_result"
    }
   ],
   "source": [
    "from sklearn.neighbors import KNeighborsClassifier\n",
    "\n",
    "clasif_knc = KNeighborsClassifier(algorithm='auto', n_neighbors=20)\n",
    "clasif_knc.fit(X_train, y_train)"
   ]
  },
  {
   "cell_type": "markdown",
   "metadata": {
    "id": "0ceFbV6cMZ_X"
   },
   "source": [
    "En este, se aumento la cantidad n de 'neighbors' a 20, tambien, se dejo el algoritmo en auto para que este eliga el que mejor funciona con los datos que se tienen.\n",
    "\n",
    "**Referencia:**\n",
    "\n",
    "* https://scikit-learn.org/stable/modules/generated/sklearn.neighbors.KNeighborsClassifier.html#sklearn.neighbors.KNeighborsClassifier"
   ]
  },
  {
   "cell_type": "code",
   "execution_count": 40,
   "metadata": {
    "colab": {
     "base_uri": "https://localhost:8080/"
    },
    "id": "fr83OjI6DuQe",
    "outputId": "9a71f791-df77-4b55-f071-ad6c8dc74430"
   },
   "outputs": [
    {
     "name": "stderr",
     "output_type": "stream",
     "text": [
      "/usr/local/lib/python3.7/dist-packages/sklearn/discriminant_analysis.py:691: UserWarning: Variables are collinear\n",
      "  warnings.warn(\"Variables are collinear\")\n"
     ]
    },
    {
     "data": {
      "text/plain": [
       "QuadraticDiscriminantAnalysis(priors=None, reg_param=0.0,\n",
       "                              store_covariance=False, tol=0.0001)"
      ]
     },
     "execution_count": 40,
     "metadata": {},
     "output_type": "execute_result"
    }
   ],
   "source": [
    "from sklearn.discriminant_analysis import QuadraticDiscriminantAnalysis\n",
    "\n",
    "clasif_qdc = QuadraticDiscriminantAnalysis()\n",
    "clasif_qdc.fit(X_train, y_train)"
   ]
  },
  {
   "cell_type": "markdown",
   "metadata": {
    "id": "tuE9_1LbMblk"
   },
   "source": [
    "Este clasificador se dejo con los parametros en default, ya que eran los que mejores metricas obtenian.\n",
    "\n",
    "**Referencia:**\n",
    "\n",
    "* https://scikit-learn.org/stable/modules/generated/sklearn.discriminant_analysis.QuadraticDiscriminantAnalysis.html#sklearn.discriminant_analysis.QuadraticDiscriminantAnalysis"
   ]
  },
  {
   "cell_type": "code",
   "execution_count": 41,
   "metadata": {
    "colab": {
     "base_uri": "https://localhost:8080/"
    },
    "id": "1NjHRmHMEP6V",
    "outputId": "aaa343d5-d469-4f0a-d97d-e0c8b9716f15"
   },
   "outputs": [
    {
     "data": {
      "text/plain": [
       "MLPClassifier(activation='relu', alpha=0.0001, batch_size='auto', beta_1=0.9,\n",
       "              beta_2=0.999, early_stopping=False, epsilon=1e-08,\n",
       "              hidden_layer_sizes=(100,), learning_rate='constant',\n",
       "              learning_rate_init=0.001, max_fun=15000, max_iter=300,\n",
       "              momentum=0.9, n_iter_no_change=10, nesterovs_momentum=True,\n",
       "              power_t=0.5, random_state=1, shuffle=True, solver='adam',\n",
       "              tol=0.0001, validation_fraction=0.1, verbose=False,\n",
       "              warm_start=False)"
      ]
     },
     "execution_count": 41,
     "metadata": {},
     "output_type": "execute_result"
    }
   ],
   "source": [
    "from sklearn.neural_network import MLPClassifier\n",
    "\n",
    "clasif_mlpc = MLPClassifier(random_state=1, max_iter=300)\n",
    "clasif_mlpc.fit(X_train, y_train)"
   ]
  },
  {
   "cell_type": "markdown",
   "metadata": {
    "id": "3EF78CV_MiP7"
   },
   "source": [
    "* https://scikit-learn.org/stable/modules/generated/sklearn.neural_network.MLPClassifier.html#sklearn.neural_network.MLPClassifier"
   ]
  },
  {
   "cell_type": "code",
   "execution_count": 42,
   "metadata": {
    "colab": {
     "base_uri": "https://localhost:8080/"
    },
    "id": "kwKxIbuEGTAM",
    "outputId": "04b5586d-31d1-43d1-fb7b-acf32335fdc7"
   },
   "outputs": [
    {
     "data": {
      "text/plain": [
       "RandomForestClassifier(bootstrap=True, ccp_alpha=0.0, class_weight=None,\n",
       "                       criterion='gini', max_depth=None, max_features='auto',\n",
       "                       max_leaf_nodes=None, max_samples=None,\n",
       "                       min_impurity_decrease=0.0, min_impurity_split=None,\n",
       "                       min_samples_leaf=1, min_samples_split=2,\n",
       "                       min_weight_fraction_leaf=0.0, n_estimators=100,\n",
       "                       n_jobs=None, oob_score=False, random_state=None,\n",
       "                       verbose=0, warm_start=False)"
      ]
     },
     "execution_count": 42,
     "metadata": {},
     "output_type": "execute_result"
    }
   ],
   "source": [
    "from sklearn.ensemble import RandomForestClassifier\n",
    "\n",
    "clasif_rfc = RandomForestClassifier()\n",
    "clasif_rfc.fit(X_train, y_train)"
   ]
  },
  {
   "cell_type": "markdown",
   "metadata": {
    "id": "6bSD_k-2Mj-y"
   },
   "source": [
    "Este clasificador se dejo con los parametros en default, ya que eran los que mejores metricas obtenian.\n",
    "\n",
    "**Referencia:**\n",
    "\n",
    "\n",
    "* https://scikit-learn.org/stable/modules/generated/sklearn.ensemble.RandomForestClassifier.html#sklearn.ensemble.RandomForestClassifier"
   ]
  },
  {
   "cell_type": "code",
   "execution_count": 43,
   "metadata": {
    "colab": {
     "base_uri": "https://localhost:8080/"
    },
    "id": "SUp14FpJa5oi",
    "outputId": "8b289cd3-8aa9-406b-8b1e-4ab931506ec5"
   },
   "outputs": [
    {
     "data": {
      "text/plain": [
       "GaussianProcessClassifier(copy_X_train=True, kernel=None, max_iter_predict=100,\n",
       "                          multi_class='one_vs_rest', n_jobs=None,\n",
       "                          n_restarts_optimizer=0, optimizer='fmin_l_bfgs_b',\n",
       "                          random_state=None, warm_start=False)"
      ]
     },
     "execution_count": 43,
     "metadata": {},
     "output_type": "execute_result"
    }
   ],
   "source": [
    "from sklearn.gaussian_process import GaussianProcessClassifier\n",
    "from sklearn.gaussian_process.kernels import RBF\n",
    "\n",
    "clasif_gpc = GaussianProcessClassifier()\n",
    "clasif_gpc.fit(X_train, y_train)"
   ]
  },
  {
   "cell_type": "markdown",
   "metadata": {
    "id": "A4yqWOuuM1ip"
   },
   "source": [
    "* https://scikit-learn.org/stable/modules/generated/sklearn.gaussian_process.GaussianProcessClassifier.html#sklearn.gaussian_process.GaussianProcessClassifier"
   ]
  },
  {
   "cell_type": "code",
   "execution_count": 44,
   "metadata": {
    "colab": {
     "base_uri": "https://localhost:8080/"
    },
    "id": "W1vvyf2xcqTK",
    "outputId": "39f0641c-c091-4c6f-dcca-b1bb1c1df26a"
   },
   "outputs": [
    {
     "data": {
      "text/plain": [
       "AdaBoostClassifier(algorithm='SAMME.R', base_estimator=None, learning_rate=1.0,\n",
       "                   n_estimators=50, random_state=None)"
      ]
     },
     "execution_count": 44,
     "metadata": {},
     "output_type": "execute_result"
    }
   ],
   "source": [
    "from sklearn.ensemble import AdaBoostClassifier\n",
    "\n",
    "clasif_abc = AdaBoostClassifier()\n",
    "clasif_abc.fit(X_train, y_train)"
   ]
  },
  {
   "cell_type": "markdown",
   "metadata": {
    "id": "SCtQSFHuM3TO"
   },
   "source": [
    "Este clasificador se dejo con los parametros en default, ya que eran los que mejores metricas obtenian.\n",
    "\n",
    "**Referencia:**\n",
    "\n",
    "\n",
    "* https://scikit-learn.org/stable/modules/generated/sklearn.ensemble.AdaBoostClassifier.html#sklearn.ensemble.AdaBoostClassifier"
   ]
  },
  {
   "cell_type": "code",
   "execution_count": 45,
   "metadata": {
    "id": "s6hJQm87A71v"
   },
   "outputs": [],
   "source": [
    "clasificadores = {\n",
    "    \"SVM\":clasif_svm, \"Decision Tree\":clasif_dec, \"Gaussian Naive Bayes\":clasif_gnb,\n",
    "    \"Logistic Regression\":clasif_log, \"K-nearest neighbor\":clasif_knc, \"Quadratic Discriminant Analysis\":clasif_qdc,\n",
    "    \"Multi-layer Perceptron\":clasif_mlpc, \"Random forest\":clasif_rfc, \"Gaussian process classificatio\":clasif_gpc,\n",
    "    \"AdaBoost\":clasif_abc\n",
    "                  }"
   ]
  },
  {
   "cell_type": "markdown",
   "metadata": {
    "id": "njTU7F__Xqdi"
   },
   "source": [
    "## **Metricas:**"
   ]
  },
  {
   "cell_type": "code",
   "execution_count": 81,
   "metadata": {
    "colab": {
     "base_uri": "https://localhost:8080/"
    },
    "id": "jPKMMsJtgGFt",
    "outputId": "3b38b635-a725-45a3-e19b-2bb3aaa58d0a"
   },
   "outputs": [
    {
     "name": "stdout",
     "output_type": "stream",
     "text": [
      "\n",
      "Clasificador SVM:\n",
      "\n",
      "              precision    recall  f1-score   support\n",
      "\n",
      "       daisy       0.95      0.88      0.91       154\n",
      "   dandelion       0.91      0.95      0.93       201\n",
      "        rose       0.89      0.87      0.88       156\n",
      "   sunflower       0.95      0.95      0.95       154\n",
      "       tulip       0.87      0.90      0.89       199\n",
      "\n",
      "    accuracy                           0.91       864\n",
      "   macro avg       0.91      0.91      0.91       864\n",
      "weighted avg       0.91      0.91      0.91       864\n",
      "\n",
      "\n",
      "Clasificador Decision Tree:\n",
      "\n",
      "              precision    recall  f1-score   support\n",
      "\n",
      "       daisy       0.81      0.77      0.79       154\n",
      "   dandelion       0.82      0.82      0.82       201\n",
      "        rose       0.74      0.68      0.71       156\n",
      "   sunflower       0.71      0.74      0.72       154\n",
      "       tulip       0.70      0.75      0.72       199\n",
      "\n",
      "    accuracy                           0.75       864\n",
      "   macro avg       0.76      0.75      0.75       864\n",
      "weighted avg       0.76      0.75      0.75       864\n",
      "\n",
      "\n",
      "Clasificador Gaussian Naive Bayes:\n",
      "\n",
      "              precision    recall  f1-score   support\n",
      "\n",
      "       daisy       0.81      0.81      0.81       154\n",
      "   dandelion       0.88      0.83      0.85       201\n",
      "        rose       0.77      0.73      0.75       156\n",
      "   sunflower       0.75      0.76      0.75       154\n",
      "       tulip       0.78      0.84      0.81       199\n",
      "\n",
      "    accuracy                           0.80       864\n",
      "   macro avg       0.80      0.79      0.79       864\n",
      "weighted avg       0.80      0.80      0.80       864\n",
      "\n",
      "\n",
      "Clasificador Logistic Regression:\n",
      "\n",
      "              precision    recall  f1-score   support\n",
      "\n",
      "       daisy       0.94      0.88      0.91       154\n",
      "   dandelion       0.92      0.95      0.93       201\n",
      "        rose       0.89      0.87      0.88       156\n",
      "   sunflower       0.93      0.95      0.94       154\n",
      "       tulip       0.89      0.91      0.90       199\n",
      "\n",
      "    accuracy                           0.91       864\n",
      "   macro avg       0.92      0.91      0.91       864\n",
      "weighted avg       0.91      0.91      0.91       864\n",
      "\n",
      "\n",
      "Clasificador K-nearest neighbor:\n",
      "\n",
      "              precision    recall  f1-score   support\n",
      "\n",
      "       daisy       0.92      0.84      0.88       154\n",
      "   dandelion       0.88      0.93      0.91       201\n",
      "        rose       0.82      0.84      0.83       156\n",
      "   sunflower       0.86      0.88      0.87       154\n",
      "       tulip       0.88      0.85      0.87       199\n",
      "\n",
      "    accuracy                           0.87       864\n",
      "   macro avg       0.87      0.87      0.87       864\n",
      "weighted avg       0.87      0.87      0.87       864\n",
      "\n",
      "\n",
      "Clasificador Quadratic Discriminant Analysis:\n",
      "\n",
      "              precision    recall  f1-score   support\n",
      "\n",
      "       daisy       0.26      0.32      0.28       154\n",
      "   dandelion       0.33      0.31      0.32       201\n",
      "        rose       0.25      0.24      0.25       156\n",
      "   sunflower       0.31      0.32      0.32       154\n",
      "       tulip       0.28      0.24      0.26       199\n",
      "\n",
      "    accuracy                           0.29       864\n",
      "   macro avg       0.29      0.29      0.29       864\n",
      "weighted avg       0.29      0.29      0.29       864\n",
      "\n",
      "\n",
      "Clasificador Multi-layer Perceptron:\n",
      "\n",
      "              precision    recall  f1-score   support\n",
      "\n",
      "       daisy       0.94      0.87      0.90       154\n",
      "   dandelion       0.92      0.95      0.93       201\n",
      "        rose       0.90      0.84      0.87       156\n",
      "   sunflower       0.93      0.94      0.93       154\n",
      "       tulip       0.86      0.92      0.89       199\n",
      "\n",
      "    accuracy                           0.91       864\n",
      "   macro avg       0.91      0.90      0.90       864\n",
      "weighted avg       0.91      0.91      0.90       864\n",
      "\n",
      "\n",
      "Clasificador Random forest:\n",
      "\n",
      "              precision    recall  f1-score   support\n",
      "\n",
      "       daisy       0.96      0.84      0.90       154\n",
      "   dandelion       0.89      0.93      0.91       201\n",
      "        rose       0.89      0.83      0.86       156\n",
      "   sunflower       0.91      0.88      0.89       154\n",
      "       tulip       0.82      0.92      0.87       199\n",
      "\n",
      "    accuracy                           0.89       864\n",
      "   macro avg       0.89      0.88      0.89       864\n",
      "weighted avg       0.89      0.89      0.89       864\n",
      "\n",
      "\n",
      "Clasificador Gaussian process classificatio:\n",
      "\n",
      "              precision    recall  f1-score   support\n",
      "\n",
      "       daisy       0.95      0.74      0.83       154\n",
      "   dandelion       0.89      0.77      0.82       201\n",
      "        rose       0.87      0.65      0.75       156\n",
      "   sunflower       0.92      0.79      0.85       154\n",
      "       tulip       0.57      0.92      0.70       199\n",
      "\n",
      "    accuracy                           0.78       864\n",
      "   macro avg       0.84      0.77      0.79       864\n",
      "weighted avg       0.83      0.78      0.79       864\n",
      "\n",
      "\n",
      "Clasificador AdaBoost:\n",
      "\n",
      "              precision    recall  f1-score   support\n",
      "\n",
      "       daisy       0.83      0.79      0.81       154\n",
      "   dandelion       0.76      0.85      0.80       201\n",
      "        rose       0.76      0.68      0.72       156\n",
      "   sunflower       0.76      0.64      0.70       154\n",
      "       tulip       0.69      0.77      0.73       199\n",
      "\n",
      "    accuracy                           0.75       864\n",
      "   macro avg       0.76      0.75      0.75       864\n",
      "weighted avg       0.76      0.75      0.75       864\n",
      "\n"
     ]
    }
   ],
   "source": [
    "from sklearn.metrics import classification_report\n",
    "\n",
    "\n",
    "for key, value in clasificadores.items():\n",
    "  print(f\"\\nClasificador {key}:\\n\")\n",
    "  print(classification_report(y_test, value.predict(X_test)))"
   ]
  },
  {
   "cell_type": "markdown",
   "metadata": {
    "id": "Y7hboC8eXzBJ"
   },
   "source": [
    "Se puede analizar que la mayoria de los clasificadores pueden predecir bien los datos, todos alrededor de un 0.8 de precision y accurcy. Sin embargo destacan dos 'Logistic Regression' y 'SVM'. Por otro lado el 'Quadratic Discriminant' no cuadra bien con nuestros datos."
   ]
  },
  {
   "cell_type": "markdown",
   "metadata": {
    "id": "0bozpZXeihY7"
   },
   "source": [
    "* https://scikit-learn.org/stable/modules/generated/sklearn.metrics.classification_report.html"
   ]
  },
  {
   "cell_type": "markdown",
   "metadata": {
    "id": "8pbSsj2Rr59z"
   },
   "source": [
    "### **Parte 3**:  Reducción de dimensionalidad"
   ]
  },
  {
   "cell_type": "code",
   "execution_count": 47,
   "metadata": {
    "colab": {
     "base_uri": "https://localhost:8080/"
    },
    "id": "olTBRiqLq-MG",
    "outputId": "b070dc0e-bab8-41ed-a20b-81968955aa70"
   },
   "outputs": [
    {
     "data": {
      "text/plain": [
       "(4317, 2)"
      ]
     },
     "execution_count": 47,
     "metadata": {},
     "output_type": "execute_result"
    }
   ],
   "source": [
    " from sklearn.manifold import TSNE\n",
    " X = TSNE(n_components=2).fit_transform(matriz)\n",
    " X.shape"
   ]
  },
  {
   "cell_type": "markdown",
   "metadata": {
    "id": "egg8ekIwsPkb"
   },
   "source": [
    "Se utilizo el metodo TSNE de reduccion de dimensionalidad de la libreria sklearn.\n",
    "\n",
    "* https://scikit-learn.org/stable/modules/generated/sklearn.manifold.TSNE.html"
   ]
  },
  {
   "cell_type": "code",
   "execution_count": 48,
   "metadata": {
    "id": "huE7rFrmt6Kk"
   },
   "outputs": [],
   "source": [
    "data_reducida = pd.DataFrame(X)\n",
    "data_reducida['label'] = pd.Series(vector_labels, index=data_reducida.index)"
   ]
  },
  {
   "cell_type": "code",
   "execution_count": 49,
   "metadata": {
    "colab": {
     "base_uri": "https://localhost:8080/",
     "height": 361
    },
    "id": "rKgHW-wzueGc",
    "outputId": "887ad81b-57df-4fdb-fe5a-7f2ea6044dd6"
   },
   "outputs": [
    {
     "data": {
      "text/html": [
       "<div>\n",
       "<style scoped>\n",
       "    .dataframe tbody tr th:only-of-type {\n",
       "        vertical-align: middle;\n",
       "    }\n",
       "\n",
       "    .dataframe tbody tr th {\n",
       "        vertical-align: top;\n",
       "    }\n",
       "\n",
       "    .dataframe thead th {\n",
       "        text-align: right;\n",
       "    }\n",
       "</style>\n",
       "<table border=\"1\" class=\"dataframe\">\n",
       "  <thead>\n",
       "    <tr style=\"text-align: right;\">\n",
       "      <th></th>\n",
       "      <th>0</th>\n",
       "      <th>1</th>\n",
       "      <th>label</th>\n",
       "    </tr>\n",
       "  </thead>\n",
       "  <tbody>\n",
       "    <tr>\n",
       "      <th>0</th>\n",
       "      <td>-4.045194</td>\n",
       "      <td>-37.927513</td>\n",
       "      <td>tulip</td>\n",
       "    </tr>\n",
       "    <tr>\n",
       "      <th>1</th>\n",
       "      <td>31.420858</td>\n",
       "      <td>-23.279684</td>\n",
       "      <td>tulip</td>\n",
       "    </tr>\n",
       "    <tr>\n",
       "      <th>2</th>\n",
       "      <td>6.375128</td>\n",
       "      <td>14.583925</td>\n",
       "      <td>daisy</td>\n",
       "    </tr>\n",
       "    <tr>\n",
       "      <th>3</th>\n",
       "      <td>16.780649</td>\n",
       "      <td>65.077957</td>\n",
       "      <td>dandelion</td>\n",
       "    </tr>\n",
       "    <tr>\n",
       "      <th>4</th>\n",
       "      <td>14.615753</td>\n",
       "      <td>-47.262726</td>\n",
       "      <td>tulip</td>\n",
       "    </tr>\n",
       "    <tr>\n",
       "      <th>5</th>\n",
       "      <td>15.345060</td>\n",
       "      <td>-6.224654</td>\n",
       "      <td>sunflower</td>\n",
       "    </tr>\n",
       "    <tr>\n",
       "      <th>6</th>\n",
       "      <td>-48.773193</td>\n",
       "      <td>32.664314</td>\n",
       "      <td>daisy</td>\n",
       "    </tr>\n",
       "    <tr>\n",
       "      <th>7</th>\n",
       "      <td>-1.415542</td>\n",
       "      <td>19.680428</td>\n",
       "      <td>dandelion</td>\n",
       "    </tr>\n",
       "    <tr>\n",
       "      <th>8</th>\n",
       "      <td>-7.180087</td>\n",
       "      <td>-17.748381</td>\n",
       "      <td>tulip</td>\n",
       "    </tr>\n",
       "    <tr>\n",
       "      <th>9</th>\n",
       "      <td>5.459030</td>\n",
       "      <td>-41.989208</td>\n",
       "      <td>rose</td>\n",
       "    </tr>\n",
       "  </tbody>\n",
       "</table>\n",
       "</div>"
      ],
      "text/plain": [
       "           0          1      label\n",
       "0  -4.045194 -37.927513      tulip\n",
       "1  31.420858 -23.279684      tulip\n",
       "2   6.375128  14.583925      daisy\n",
       "3  16.780649  65.077957  dandelion\n",
       "4  14.615753 -47.262726      tulip\n",
       "5  15.345060  -6.224654  sunflower\n",
       "6 -48.773193  32.664314      daisy\n",
       "7  -1.415542  19.680428  dandelion\n",
       "8  -7.180087 -17.748381      tulip\n",
       "9   5.459030 -41.989208       rose"
      ]
     },
     "execution_count": 49,
     "metadata": {},
     "output_type": "execute_result"
    }
   ],
   "source": [
    "data_reducida.head(10)"
   ]
  },
  {
   "cell_type": "code",
   "execution_count": 50,
   "metadata": {
    "colab": {
     "base_uri": "https://localhost:8080/",
     "height": 410
    },
    "id": "7F4MbbzSvOwd",
    "outputId": "92140a41-778a-45ac-f45e-d7715bba483e"
   },
   "outputs": [
    {
     "data": {
      "image/png": "[encoded data removed]",
      "text/plain": [
       "<Figure size 720x432 with 1 Axes>"
      ]
     },
     "metadata": {},
     "output_type": "display_data"
    }
   ],
   "source": [
    "sns.scatterplot(data=data_reducida, x=0, y=1, hue='label')\n",
    "plt.legend(bbox_to_anchor=(1.02, 1), loc='upper left', borderaxespad=0, title=\"Tipos de flor:\")\n",
    "plt.title(\"Distribucion de Tipos de flor\")\n",
    "\n",
    "plt.show()"
   ]
  },
  {
   "cell_type": "markdown",
   "metadata": {
    "id": "rIq2rHKGsfyq"
   },
   "source": [
    "* https://seaborn.pydata.org/generated/seaborn.scatterplot.html"
   ]
  },
  {
   "cell_type": "markdown",
   "metadata": {
    "id": "z2eZLuS9WU9_"
   },
   "source": [
    "Del grafico se puede rescatar que tanto las 'daisy' como las 'dandelion' son mas distinguibles y por ende mas facil de predecir. Eso tambien se ve en las metricas de los clasificadores. Por otro lado, los 'tulip' y las 'roses' tienen caracteristicas similares que las ubican en una misma area del grafico."
   ]
  }
 ],
 "metadata": {
  "colab": {
   "collapsed_sections": [],
   "name": "TG2 Espinoza-Vial.ipynb",
   "provenance": []
  },
  "kernelspec": {
   "display_name": "Python 3 (ipykernel)",
   "language": "python",
   "name": "python3"
  },
  "language_info": {
   "codemirror_mode": {
    "name": "ipython",
    "version": 3
   },
   "file_extension": ".py",
   "mimetype": "text/x-python",
   "name": "python",
   "nbconvert_exporter": "python",
   "pygments_lexer": "ipython3",
   "version": "3.8.10"
  }
 },
 "nbformat": 4,
 "nbformat_minor": 4
}
